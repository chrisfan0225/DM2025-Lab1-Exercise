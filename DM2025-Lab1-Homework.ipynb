{
 "cells": [
  {
   "cell_type": "markdown",
   "metadata": {},
   "source": [
    "### Student Information\n",
    "Name: 范辰于\n",
    "\n",
    "Student ID: 112070034\n",
    "\n",
    "GitHub ID: chrisfan0225"
   ]
  },
  {
   "cell_type": "markdown",
   "metadata": {},
   "source": [
    "---"
   ]
  },
  {
   "cell_type": "markdown",
   "metadata": {},
   "source": [
    "### Instructions"
   ]
  },
  {
   "cell_type": "markdown",
   "metadata": {},
   "source": [
    "### First Phase Submission"
   ]
  },
  {
   "cell_type": "markdown",
   "metadata": {},
   "source": [
    "1. First: do the **take home** exercises in the [DM2025-Lab1-Master](https://github.com/leoson-wu/DM2025-Lab1-Exercise/blob/main/DM2025-Lab1-Master.ipynb) that considered as **phase 1 (from exercise 1 to exercise 15)**. You can answer in the master file. __This part is worth 10% of your grade.__\n",
    "\n",
    "\n",
    "2. Second: follow the same process from the [DM2025-Lab1-Master](https://github.com/leoson-wu/DM2025-Lab1-Exercise/blob/main/DM2025-Lab1-Master.ipynb) on **the new dataset** up **until phase 1**. You can skip some exercises if you think some steps are not necessary. However main exercises should be completed. You don't need to explain all details as we did (some **minimal comments** explaining your code are useful though).  __This part is worth 15% of your grade.__\n",
    "    -  Use [the new dataset](https://github.com/leoson-wu/DM2025-Lab1-Exercise/blob/main/newdataset/Reddit-stock-sentiment.csv). The dataset contains a 16 columns including 'text' and 'label', with the sentiment labels being: 1.0 is positive, 0.0 is neutral and -1.0 is negative. You can simplify the dataset and use only the columns that you think are necessary. \n",
    "    \n",
    "    - You are allowed to use and modify the `helper` functions in the folder of the first lab session (notice they may need modification) or create your own.\n",
    "    - Use this file to complete the homework from the second part. Make sure the code can be run from the beginning till the end and has all the needed output.\n",
    "\n",
    "\n",
    "3. Third: please attempt the following tasks on **the new dataset**. __This part is worth 10% of your grade.__\n",
    "    - Generate meaningful **new data visualizations**. Refer to online resources and the Data Mining textbook for inspiration and ideas. \n",
    "    \n",
    "\n",
    "\n",
    "4. Fourth: It's hard for us to follow if your code is messy, so please **tidy up your notebook** and **add minimal comments where needed**. __This part is worth 5% of your grade.__\n",
    "\n",
    "You can submit your homework following these guidelines: [DM2025-Lab1-announcement](https://github.com/leoson-wu/DM2025-Lab1-Announcement/blob/main/README.md). Make sure to commit and save your changes to your repository __BEFORE the deadline (September 28th 11:59 pm, Sunday)__. "
   ]
  },
  {
   "cell_type": "markdown",
   "metadata": {},
   "source": [
    "### Second Phase Submission "
   ]
  },
  {
   "cell_type": "markdown",
   "metadata": {},
   "source": [
    "**You can keep the answer for phase 1 for easier running and update the phase 2 on the same page.**\n",
    "\n",
    "1. First: Continue doing the **take home** exercises in the [DM2025-Lab1-Master](https://github.com/leoson-wu/DM2025-Lab1-Exercise/blob/main/DM2025-Lab1-Master.ipynb) for **phase 2, starting from Finding frequent patterns**. Use the same master(.ipynb) file. Answer from phase 1 will not be considered at this stage. You can answer in the master file. __This part is worth 10% of your grade.__\n",
    "\n",
    "\n",
    "2. Second: Continue from first phase and do the same process from the [DM2025-Lab1-Master](https://github.com/leoson-wu/DM2025-Lab1-Exercise/blob/main/DM2025-Lab1-Master.ipynb) on **the new dataset** for phase 2, starting from Finding frequent pattern. You can skip some exercises if you think some steps are not necessary. However main exercises should be completed. You don't need to explain all details as we did (some **minimal comments** explaining your code are useful though).  __This part is worth 15% of your grade.__\n",
    "    - Continue using this file to complete the homework from the second part. Make sure the code can be run from the beginning till the end and has all the needed output. Use the same new dataset as in phase 1.\n",
    "    \n",
    "    - You are allowed to use and modify the `helper` functions in the folder of the first lab session (notice they may need modification) or create your own.\n",
    "\n",
    "3. Third: please attempt the following tasks on **the new dataset**. __This part is worth 20% of your grade.__\n",
    "    - Use this file to answer.\n",
    "    - Generate **TF-IDF features** from the tokens of each text. This will generating a document matrix, however, the weights will be computed differently (using the TF-IDF value of each word per document as opposed to the word frequency).  Refer to this Scikit-learn [guide](http://scikit-learn.org/stable/modules/generated/sklearn.feature_extraction.text.TfidfVectorizer.html) .\n",
    "    - Implement a simple **Naive Bayes classifier** that automatically classifies the records into their categories. Use both the TF-IDF features and word frequency features to build two seperate classifiers. Note that for the TF-IDF features you might need to use other type of NB classifier different than the one in the Master Notebook. Comment on the differences and when using augmentation with feature pattern.  Refer to this [article](https://hub.packtpub.com/implementing-3-naive-bayes-classifiers-in-scikit-learn/).\n",
    "\n",
    "\n",
    "4. Fourth: In the lab, we applied each step really quickly just to illustrate how to work with your dataset. There are somethings that are not ideal or the most efficient/meaningful. Each dataset can be handled differently as well. What are those inefficent parts you noticed? How can you improve the Data preprocessing for these specific datasets? __This part is worth 10% of your grade.__\n",
    "\n",
    "\n",
    "5. Fifth: It's hard for us to follow if your code is messy, so please **tidy up your notebook** and **add minimal comments where needed**. __This part is worth 5% of your grade.__\n",
    "\n",
    "\n",
    "You can submit your homework following these guidelines: [DM2025-Lab1-announcement](https://github.com/leoson-wu/DM2025-Lab1-Announcement/blob/main/README.md). Make sure to commit and save your changes to your repository __BEFORE the deadline (October 19th 11:59 pm, Sunday)__. "
   ]
  },
  {
   "cell_type": "markdown",
   "metadata": {},
   "source": [
    "# Phase 1"
   ]
  },
  {
   "cell_type": "code",
   "execution_count": 146,
   "metadata": {},
   "outputs": [
    {
     "name": "stderr",
     "output_type": "stream",
     "text": [
      "[nltk_data] Downloading package punkt to\n",
      "[nltk_data]     C:\\Users\\omnl0\\AppData\\Roaming\\nltk_data...\n",
      "[nltk_data]   Package punkt is already up-to-date!\n",
      "[nltk_data] Downloading package punkt_tab to\n",
      "[nltk_data]     C:\\Users\\omnl0\\AppData\\Roaming\\nltk_data...\n",
      "[nltk_data]   Package punkt_tab is already up-to-date!\n"
     ]
    },
    {
     "name": "stdout",
     "output_type": "stream",
     "text": [
      "Example Text 1:\n",
      "Calls on retards\n",
      "--------------------------------------------------------------------------------\n",
      "Example Text 2:\n",
      "Stunt as in like why did they even make a big deal about starting it in the first place? No company should ever talk about politics ever.\n",
      "--------------------------------------------------------------------------------\n",
      "Example Text 3:\n",
      "Seeing lots of red in the ticker.\n",
      "--------------------------------------------------------------------------------\n",
      "Original duplicated value num = 23\n",
      "Original dataset len = 847\n",
      "After dropping duplicate dataset len = 813\n",
      "--------------------------------------------------------------------------------\n",
      "The length of dtset sample = 400\n",
      "559    One billion gagillion fafillion shabadabalo sh...\n",
      "240    Also China: We are embargoing strategic minera...\n",
      "808                    Whoops i got it confused for DWAC\n",
      "138    You telling me dumping your allies and startin...\n",
      "156    Yeah, like has anyone realized what happens wh...\n",
      "Name: text, dtype: object\n",
      "--------------------------------------------------------------------------------\n",
      "There are 4 kinds of Subreddits, and they are ['wallstreetbets' 'StockMarket' 'stockstobuytoday' 'stocks']\n",
      "subreddit\n",
      "stocks              272\n",
      "StockMarket         250\n",
      "wallstreetbets      149\n",
      "stockstobuytoday    142\n",
      "Name: count, dtype: int64\n",
      "--------------------------------------------------------------------------------\n",
      "   00  10  11  12  18630  23  25  2fapps  31224  31225  ...  yippee  yo  your  \\\n",
      "0   0   0   0   0      0   0   0       0      0      0  ...       0   0     0   \n",
      "1   0   0   0   0      0   0   0       0      0      0  ...       0   0     0   \n",
      "2   0   0   0   0      0   0   0       0      0      0  ...       0   0     0   \n",
      "3   0   0   0   0      0   0   0       0      0      0  ...       0   0     0   \n",
      "4   0   0   0   0      0   0   0       0      0      0  ...       0   0     0   \n",
      "\n",
      "   youtube  yoyo  yup  zero  zgld  zone  zsil  \n",
      "0        0     0    0     0     0     0     0  \n",
      "1        0     0    0     0     0     0     0  \n",
      "2        0     0    0     0     0     0     0  \n",
      "3        0     0    0     0     0     0     0  \n",
      "4        0     0    0     0     0     0     0  \n",
      "\n",
      "[5 rows x 2116 columns]\n",
      "the 100th word is apple\n",
      "achievement : 1\n",
      "--------------------------------------------------------------------------------\n"
     ]
    },
    {
     "data": {
      "image/png": "[encoded data removed]",
      "text/plain": [
       "<Figure size 800x300 with 1 Axes>"
      ]
     },
     "metadata": {},
     "output_type": "display_data"
    },
    {
     "data": {
      "image/png": "[encoded data removed]",
      "text/plain": [
       "<Figure size 700x400 with 1 Axes>"
      ]
     },
     "metadata": {},
     "output_type": "display_data"
    },
    {
     "data": {
      "image/png": "[encoded data removed]",
      "text/plain": [
       "<Figure size 1400x1000 with 2 Axes>"
      ]
     },
     "metadata": {},
     "output_type": "display_data"
    },
    {
     "data": {
      "application/vnd.plotly.v1+json": {
       "config": {
        "plotlyServerURL": "https://plot.ly"
       },
       "data": [
        {
         "hovertemplate": "Terms=%{x}<br>Frequency=%{y}<extra></extra>",
         "legendgroup": "",
         "marker": {
          "color": "#636efa",
          "pattern": {
           "shape": ""
          }
         },
         "name": "",
         "orientation": "v",
         "showlegend": false,
         "textposition": "auto",
         "type": "bar",
         "x": [
          "00",
          "10",
          "11",
          "12",
          "18630",
          "23",
          "25",
          "2fapps",
          "31224",
          "31225",
          "3306",
          "3f",
          "3oz8xzgfhartvh99yi",
          "4260",
          "4267",
          "4271",
          "4359",
          "50",
          "75",
          "8882",
          "8883",
          "aapl",
          "ability",
          "abuse",
          "access",
          "account",
          "acct",
          "acgl",
          "achievement",
          "achilles",
          "acn",
          "acquisition",
          "act",
          "action",
          "actual",
          "ad",
          "adausd",
          "add",
          "addition",
          "admin",
          "administration",
          "admit",
          "adobe",
          "adp",
          "adult",
          "advantage",
          "advice",
          "advisor",
          "aerc",
          "aerocontractors",
          "affect",
          "africa",
          "afternoon",
          "agane",
          "age",
          "agenda",
          "agentnlp",
          "agnew",
          "agolf",
          "agreed",
          "agreement",
          "agriculture",
          "ai",
          "aid",
          "aiming",
          "air",
          "aircraft",
          "airline",
          "airlines",
          "airplane",
          "all",
          "allocation",
          "ally",
          "almasria",
          "am",
          "amazon",
          "amc",
          "amd",
          "amendment",
          "america",
          "american",
          "americas",
          "amirite",
          "amount",
          "amzn",
          "anal",
          "analysis",
          "and",
          "andrew",
          "anduril",
          "anger",
          "animal",
          "anime",
          "any",
          "anyone",
          "anything",
          "anyway",
          "aoc",
          "ape",
          "app",
          "apple",
          "approval",
          "apps",
          "april",
          "aptitude",
          "aquafina",
          "arbitrage",
          "arbitration",
          "arch",
          "ard",
          "are",
          "aren",
          "argument",
          "arhs",
          "arkb",
          "arms",
          "art",
          "article",
          "asap",
          "asia",
          "ask",
          "asml",
          "ass",
          "assumption",
          "asts",
          "at",
          "ath",
          "atlas",
          "atm",
          "attack",
          "attendance",
          "attention",
          "atus",
          "audience",
          "aurcana",
          "australia",
          "authority",
          "auto",
          "autocracy",
          "auusi",
          "auy",
          "avct",
          "average",
          "avgo",
          "aviación",
          "aviation",
          "awesome",
          "b2b",
          "baba",
          "back",
          "bad",
          "badass",
          "bagging",
          "balance",
          "balanced",
          "ball",
          "ban",
          "bang",
          "bank",
          "banzai",
          "barista",
          "barrel",
          "base",
          "basis",
          "basket",
          "bastion",
          "battery",
          "battle",
          "bb",
          "bbq",
          "bby",
          "bc",
          "be",
          "bear",
          "beautiful",
          "beauty",
          "bed",
          "begging",
          "beginner",
          "beginning",
          "behavior",
          "behaviour",
          "belief",
          "believable",
          "bell",
          "bellarus",
          "below",
          "benjamin",
          "bessent",
          "best",
          "bet",
          "beta",
          "better",
          "beyond",
          "bid",
          "biden",
          "big",
          "bigg",
          "biggest",
          "billionaire",
          "bills",
          "bing",
          "bit",
          "bitb",
          "bitcoin",
          "bitf",
          "blackrock",
          "blame",
          "blazer",
          "blend",
          "blgo",
          "blnk",
          "blockchain",
          "bloomberg",
          "bmw",
          "bnzi",
          "board",
          "boating",
          "bob",
          "bois",
          "boliviana",
          "bolton",
          "bomb",
          "bond",
          "bong",
          "bonus",
          "book",
          "boomer",
          "borderline",
          "bored",
          "bot",
          "bottom",
          "bought",
          "bounce",
          "bowl",
          "box",
          "boycott",
          "bp",
          "brain",
          "branch",
          "brand",
          "brasileiro",
          "brazil",
          "breakdown",
          "breakout",
          "breast",
          "brew",
          "brewing",
          "brick",
          "brics",
          "bringing",
          "bristol",
          "brkb",
          "bro",
          "broke",
          "broker",
          "brokerage",
          "bros",
          "brother",
          "brrr",
          "brrrrrr",
          "bs",
          "btbt",
          "btcm",
          "btco",
          "btcq",
          "btcusd",
          "btw",
          "bucko",
          "bud",
          "buddy",
          "buffet",
          "bull",
          "bullshit",
          "bullying",
          "bunch",
          "burn",
          "business",
          "but",
          "button",
          "buy",
          "buying",
          "by",
          "byddy",
          "ca",
          "cabinet",
          "cabling",
          "cage",
          "calculus",
          "california",
          "call",
          "calls",
          "campaign",
          "can",
          "canada",
          "canadianinvestor",
          "cancer",
          "candidate",
          "candle",
          "cant"
         ],
         "xaxis": "x",
         "y": {
          "bdata": "AwIBAQIBAwIBAQEBAQIBBQECAgECAwIBAQEBAQEBAQMCAQEBAQECAggBAQEBAQcBAQEBAQEBAQEBAQEBAQEFAQECAQECAQICAQIBBAMCARACAQEDBAEFAQEBAQEBAQwRAQEBAQUBAQQBAQEBAQEDAQIBAQIGAwEBAwIHAgEBAwIBAQEDAQEBAQECAQECAQEBAQEBAQIBAgECAQEBAQEIAgEBBAIBAQMCAQEBAQIDAQEBAQEBAQEBAQEBAQEBAgMBAQEBBAEBAQEBAQMBAgECAQEBAQEBAgEBAQECAQEBAQ4BAQQBAQEBAgEBAQEBAgUCAgECAQECAQEBAQECAQMBAQEBAgEBAgEBAQEBAQEBAQEJBQEDAQcCAQYCAQEBAQEBAQEHAQIBAgEBAQIB",
          "dtype": "i1"
         },
         "yaxis": "y"
        }
       ],
       "layout": {
        "barmode": "relative",
        "legend": {
         "tracegroupgap": 0
        },
        "template": {
         "data": {
          "bar": [
           {
            "error_x": {
             "color": "#2a3f5f"
            },
            "error_y": {
             "color": "#2a3f5f"
            },
            "marker": {
             "line": {
              "color": "#E5ECF6",
              "width": 0.5
             },
             "pattern": {
              "fillmode": "overlay",
              "size": 10,
              "solidity": 0.2
             }
            },
            "type": "bar"
           }
          ],
          "barpolar": [
           {
            "marker": {
             "line": {
              "color": "#E5ECF6",
              "width": 0.5
             },
             "pattern": {
              "fillmode": "overlay",
              "size": 10,
              "solidity": 0.2
             }
            },
            "type": "barpolar"
           }
          ],
          "carpet": [
           {
            "aaxis": {
             "endlinecolor": "#2a3f5f",
             "gridcolor": "white",
             "linecolor": "white",
             "minorgridcolor": "white",
             "startlinecolor": "#2a3f5f"
            },
            "baxis": {
             "endlinecolor": "#2a3f5f",
             "gridcolor": "white",
             "linecolor": "white",
             "minorgridcolor": "white",
             "startlinecolor": "#2a3f5f"
            },
            "type": "carpet"
           }
          ],
          "choropleth": [
           {
            "colorbar": {
             "outlinewidth": 0,
             "ticks": ""
            },
            "type": "choropleth"
           }
          ],
          "contour": [
           {
            "colorbar": {
             "outlinewidth": 0,
             "ticks": ""
            },
            "colorscale": [
             [
              0,
              "#0d0887"
             ],
             [
              0.1111111111111111,
              "#46039f"
             ],
             [
              0.2222222222222222,
              "#7201a8"
             ],
             [
              0.3333333333333333,
              "#9c179e"
             ],
             [
              0.4444444444444444,
              "#bd3786"
             ],
             [
              0.5555555555555556,
              "#d8576b"
             ],
             [
              0.6666666666666666,
              "#ed7953"
             ],
             [
              0.7777777777777778,
              "#fb9f3a"
             ],
             [
              0.8888888888888888,
              "#fdca26"
             ],
             [
              1,
              "#f0f921"
             ]
            ],
            "type": "contour"
           }
          ],
          "contourcarpet": [
           {
            "colorbar": {
             "outlinewidth": 0,
             "ticks": ""
            },
            "type": "contourcarpet"
           }
          ],
          "heatmap": [
           {
            "colorbar": {
             "outlinewidth": 0,
             "ticks": ""
            },
            "colorscale": [
             [
              0,
              "#0d0887"
             ],
             [
              0.1111111111111111,
              "#46039f"
             ],
             [
              0.2222222222222222,
              "#7201a8"
             ],
             [
              0.3333333333333333,
              "#9c179e"
             ],
             [
              0.4444444444444444,
              "#bd3786"
             ],
             [
              0.5555555555555556,
              "#d8576b"
             ],
             [
              0.6666666666666666,
              "#ed7953"
             ],
             [
              0.7777777777777778,
              "#fb9f3a"
             ],
             [
              0.8888888888888888,
              "#fdca26"
             ],
             [
              1,
              "#f0f921"
             ]
            ],
            "type": "heatmap"
           }
          ],
          "histogram": [
           {
            "marker": {
             "pattern": {
              "fillmode": "overlay",
              "size": 10,
              "solidity": 0.2
             }
            },
            "type": "histogram"
           }
          ],
          "histogram2d": [
           {
            "colorbar": {
             "outlinewidth": 0,
             "ticks": ""
            },
            "colorscale": [
             [
              0,
              "#0d0887"
             ],
             [
              0.1111111111111111,
              "#46039f"
             ],
             [
              0.2222222222222222,
              "#7201a8"
             ],
             [
              0.3333333333333333,
              "#9c179e"
             ],
             [
              0.4444444444444444,
              "#bd3786"
             ],
             [
              0.5555555555555556,
              "#d8576b"
             ],
             [
              0.6666666666666666,
              "#ed7953"
             ],
             [
              0.7777777777777778,
              "#fb9f3a"
             ],
             [
              0.8888888888888888,
              "#fdca26"
             ],
             [
              1,
              "#f0f921"
             ]
            ],
            "type": "histogram2d"
           }
          ],
          "histogram2dcontour": [
           {
            "colorbar": {
             "outlinewidth": 0,
             "ticks": ""
            },
            "colorscale": [
             [
              0,
              "#0d0887"
             ],
             [
              0.1111111111111111,
              "#46039f"
             ],
             [
              0.2222222222222222,
              "#7201a8"
             ],
             [
              0.3333333333333333,
              "#9c179e"
             ],
             [
              0.4444444444444444,
              "#bd3786"
             ],
             [
              0.5555555555555556,
              "#d8576b"
             ],
             [
              0.6666666666666666,
              "#ed7953"
             ],
             [
              0.7777777777777778,
              "#fb9f3a"
             ],
             [
              0.8888888888888888,
              "#fdca26"
             ],
             [
              1,
              "#f0f921"
             ]
            ],
            "type": "histogram2dcontour"
           }
          ],
          "mesh3d": [
           {
            "colorbar": {
             "outlinewidth": 0,
             "ticks": ""
            },
            "type": "mesh3d"
           }
          ],
          "parcoords": [
           {
            "line": {
             "colorbar": {
              "outlinewidth": 0,
              "ticks": ""
             }
            },
            "type": "parcoords"
           }
          ],
          "pie": [
           {
            "automargin": true,
            "type": "pie"
           }
          ],
          "scatter": [
           {
            "fillpattern": {
             "fillmode": "overlay",
             "size": 10,
             "solidity": 0.2
            },
            "type": "scatter"
           }
          ],
          "scatter3d": [
           {
            "line": {
             "colorbar": {
              "outlinewidth": 0,
              "ticks": ""
             }
            },
            "marker": {
             "colorbar": {
              "outlinewidth": 0,
              "ticks": ""
             }
            },
            "type": "scatter3d"
           }
          ],
          "scattercarpet": [
           {
            "marker": {
             "colorbar": {
              "outlinewidth": 0,
              "ticks": ""
             }
            },
            "type": "scattercarpet"
           }
          ],
          "scattergeo": [
           {
            "marker": {
             "colorbar": {
              "outlinewidth": 0,
              "ticks": ""
             }
            },
            "type": "scattergeo"
           }
          ],
          "scattergl": [
           {
            "marker": {
             "colorbar": {
              "outlinewidth": 0,
              "ticks": ""
             }
            },
            "type": "scattergl"
           }
          ],
          "scattermap": [
           {
            "marker": {
             "colorbar": {
              "outlinewidth": 0,
              "ticks": ""
             }
            },
            "type": "scattermap"
           }
          ],
          "scattermapbox": [
           {
            "marker": {
             "colorbar": {
              "outlinewidth": 0,
              "ticks": ""
             }
            },
            "type": "scattermapbox"
           }
          ],
          "scatterpolar": [
           {
            "marker": {
             "colorbar": {
              "outlinewidth": 0,
              "ticks": ""
             }
            },
            "type": "scatterpolar"
           }
          ],
          "scatterpolargl": [
           {
            "marker": {
             "colorbar": {
              "outlinewidth": 0,
              "ticks": ""
             }
            },
            "type": "scatterpolargl"
           }
          ],
          "scatterternary": [
           {
            "marker": {
             "colorbar": {
              "outlinewidth": 0,
              "ticks": ""
             }
            },
            "type": "scatterternary"
           }
          ],
          "surface": [
           {
            "colorbar": {
             "outlinewidth": 0,
             "ticks": ""
            },
            "colorscale": [
             [
              0,
              "#0d0887"
             ],
             [
              0.1111111111111111,
              "#46039f"
             ],
             [
              0.2222222222222222,
              "#7201a8"
             ],
             [
              0.3333333333333333,
              "#9c179e"
             ],
             [
              0.4444444444444444,
              "#bd3786"
             ],
             [
              0.5555555555555556,
              "#d8576b"
             ],
             [
              0.6666666666666666,
              "#ed7953"
             ],
             [
              0.7777777777777778,
              "#fb9f3a"
             ],
             [
              0.8888888888888888,
              "#fdca26"
             ],
             [
              1,
              "#f0f921"
             ]
            ],
            "type": "surface"
           }
          ],
          "table": [
           {
            "cells": {
             "fill": {
              "color": "#EBF0F8"
             },
             "line": {
              "color": "white"
             }
            },
            "header": {
             "fill": {
              "color": "#C8D4E3"
             },
             "line": {
              "color": "white"
             }
            },
            "type": "table"
           }
          ]
         },
         "layout": {
          "annotationdefaults": {
           "arrowcolor": "#2a3f5f",
           "arrowhead": 0,
           "arrowwidth": 1
          },
          "autotypenumbers": "strict",
          "coloraxis": {
           "colorbar": {
            "outlinewidth": 0,
            "ticks": ""
           }
          },
          "colorscale": {
           "diverging": [
            [
             0,
             "#8e0152"
            ],
            [
             0.1,
             "#c51b7d"
            ],
            [
             0.2,
             "#de77ae"
            ],
            [
             0.3,
             "#f1b6da"
            ],
            [
             0.4,
             "#fde0ef"
            ],
            [
             0.5,
             "#f7f7f7"
            ],
            [
             0.6,
             "#e6f5d0"
            ],
            [
             0.7,
             "#b8e186"
            ],
            [
             0.8,
             "#7fbc41"
            ],
            [
             0.9,
             "#4d9221"
            ],
            [
             1,
             "#276419"
            ]
           ],
           "sequential": [
            [
             0,
             "#0d0887"
            ],
            [
             0.1111111111111111,
             "#46039f"
            ],
            [
             0.2222222222222222,
             "#7201a8"
            ],
            [
             0.3333333333333333,
             "#9c179e"
            ],
            [
             0.4444444444444444,
             "#bd3786"
            ],
            [
             0.5555555555555556,
             "#d8576b"
            ],
            [
             0.6666666666666666,
             "#ed7953"
            ],
            [
             0.7777777777777778,
             "#fb9f3a"
            ],
            [
             0.8888888888888888,
             "#fdca26"
            ],
            [
             1,
             "#f0f921"
            ]
           ],
           "sequentialminus": [
            [
             0,
             "#0d0887"
            ],
            [
             0.1111111111111111,
             "#46039f"
            ],
            [
             0.2222222222222222,
             "#7201a8"
            ],
            [
             0.3333333333333333,
             "#9c179e"
            ],
            [
             0.4444444444444444,
             "#bd3786"
            ],
            [
             0.5555555555555556,
             "#d8576b"
            ],
            [
             0.6666666666666666,
             "#ed7953"
            ],
            [
             0.7777777777777778,
             "#fb9f3a"
            ],
            [
             0.8888888888888888,
             "#fdca26"
            ],
            [
             1,
             "#f0f921"
            ]
           ]
          },
          "colorway": [
           "#636efa",
           "#EF553B",
           "#00cc96",
           "#ab63fa",
           "#FFA15A",
           "#19d3f3",
           "#FF6692",
           "#B6E880",
           "#FF97FF",
           "#FECB52"
          ],
          "font": {
           "color": "#2a3f5f"
          },
          "geo": {
           "bgcolor": "white",
           "lakecolor": "white",
           "landcolor": "#E5ECF6",
           "showlakes": true,
           "showland": true,
           "subunitcolor": "white"
          },
          "hoverlabel": {
           "align": "left"
          },
          "hovermode": "closest",
          "mapbox": {
           "style": "light"
          },
          "paper_bgcolor": "white",
          "plot_bgcolor": "#E5ECF6",
          "polar": {
           "angularaxis": {
            "gridcolor": "white",
            "linecolor": "white",
            "ticks": ""
           },
           "bgcolor": "#E5ECF6",
           "radialaxis": {
            "gridcolor": "white",
            "linecolor": "white",
            "ticks": ""
           }
          },
          "scene": {
           "xaxis": {
            "backgroundcolor": "#E5ECF6",
            "gridcolor": "white",
            "gridwidth": 2,
            "linecolor": "white",
            "showbackground": true,
            "ticks": "",
            "zerolinecolor": "white"
           },
           "yaxis": {
            "backgroundcolor": "#E5ECF6",
            "gridcolor": "white",
            "gridwidth": 2,
            "linecolor": "white",
            "showbackground": true,
            "ticks": "",
            "zerolinecolor": "white"
           },
           "zaxis": {
            "backgroundcolor": "#E5ECF6",
            "gridcolor": "white",
            "gridwidth": 2,
            "linecolor": "white",
            "showbackground": true,
            "ticks": "",
            "zerolinecolor": "white"
           }
          },
          "shapedefaults": {
           "line": {
            "color": "#2a3f5f"
           }
          },
          "ternary": {
           "aaxis": {
            "gridcolor": "white",
            "linecolor": "white",
            "ticks": ""
           },
           "baxis": {
            "gridcolor": "white",
            "linecolor": "white",
            "ticks": ""
           },
           "bgcolor": "#E5ECF6",
           "caxis": {
            "gridcolor": "white",
            "linecolor": "white",
            "ticks": ""
           }
          },
          "title": {
           "x": 0.05
          },
          "xaxis": {
           "automargin": true,
           "gridcolor": "white",
           "linecolor": "white",
           "ticks": "",
           "title": {
            "standoff": 15
           },
           "zerolinecolor": "white",
           "zerolinewidth": 2
          },
          "yaxis": {
           "automargin": true,
           "gridcolor": "white",
           "linecolor": "white",
           "ticks": "",
           "title": {
            "standoff": 15
           },
           "zerolinecolor": "white",
           "zerolinewidth": 2
          }
         }
        },
        "title": {
         "text": "Words Frequency (for the 1st-300th words)"
        },
        "xaxis": {
         "anchor": "y",
         "domain": [
          0,
          1
         ],
         "title": {
          "text": "Terms"
         }
        },
        "yaxis": {
         "anchor": "x",
         "domain": [
          0,
          1
         ],
         "title": {
          "text": "Frequency"
         }
        }
       }
      }
     },
     "metadata": {},
     "output_type": "display_data"
    },
    {
     "data": {
      "application/vnd.plotly.v1+json": {
       "config": {
        "plotlyServerURL": "https://plot.ly"
       },
       "data": [
        {
         "hovertemplate": "Terms=%{x}<br>Frequency=%{y}<extra></extra>",
         "legendgroup": "",
         "marker": {
          "color": "#636efa",
          "pattern": {
           "shape": ""
          }
         },
         "name": "",
         "orientation": "v",
         "showlegend": false,
         "textposition": "auto",
         "type": "bar",
         "x": [
          "america",
          "anyone",
          "anything",
          "bond",
          "cash",
          "china",
          "company",
          "country",
          "day",
          "deal",
          "dollar",
          "economy",
          "emote",
          "end",
          "everyone",
          "everything",
          "fed",
          "fuck",
          "gold",
          "group",
          "investment",
          "life",
          "lot",
          "market",
          "money",
          "news",
          "nothing",
          "one",
          "point",
          "power",
          "president",
          "price",
          "reason",
          "reddit",
          "rest",
          "silver",
          "someone",
          "something",
          "stock",
          "t5_2th52",
          "tariff",
          "term",
          "the",
          "thing",
          "time",
          "today",
          "trade",
          "trading",
          "trump",
          "us",
          "usa"
         ],
         "xaxis": "x",
         "y": {
          "bdata": "EAwRDgs5Eg8ZChMYDwsVDQoMCgwLCgw5Jg4NDhANCxEPDQoWEgwYDwoQDhAgERENSDkK",
          "dtype": "i1"
         },
         "yaxis": "y"
        }
       ],
       "layout": {
        "barmode": "relative",
        "legend": {
         "tracegroupgap": 0
        },
        "template": {
         "data": {
          "bar": [
           {
            "error_x": {
             "color": "#2a3f5f"
            },
            "error_y": {
             "color": "#2a3f5f"
            },
            "marker": {
             "line": {
              "color": "#E5ECF6",
              "width": 0.5
             },
             "pattern": {
              "fillmode": "overlay",
              "size": 10,
              "solidity": 0.2
             }
            },
            "type": "bar"
           }
          ],
          "barpolar": [
           {
            "marker": {
             "line": {
              "color": "#E5ECF6",
              "width": 0.5
             },
             "pattern": {
              "fillmode": "overlay",
              "size": 10,
              "solidity": 0.2
             }
            },
            "type": "barpolar"
           }
          ],
          "carpet": [
           {
            "aaxis": {
             "endlinecolor": "#2a3f5f",
             "gridcolor": "white",
             "linecolor": "white",
             "minorgridcolor": "white",
             "startlinecolor": "#2a3f5f"
            },
            "baxis": {
             "endlinecolor": "#2a3f5f",
             "gridcolor": "white",
             "linecolor": "white",
             "minorgridcolor": "white",
             "startlinecolor": "#2a3f5f"
            },
            "type": "carpet"
           }
          ],
          "choropleth": [
           {
            "colorbar": {
             "outlinewidth": 0,
             "ticks": ""
            },
            "type": "choropleth"
           }
          ],
          "contour": [
           {
            "colorbar": {
             "outlinewidth": 0,
             "ticks": ""
            },
            "colorscale": [
             [
              0,
              "#0d0887"
             ],
             [
              0.1111111111111111,
              "#46039f"
             ],
             [
              0.2222222222222222,
              "#7201a8"
             ],
             [
              0.3333333333333333,
              "#9c179e"
             ],
             [
              0.4444444444444444,
              "#bd3786"
             ],
             [
              0.5555555555555556,
              "#d8576b"
             ],
             [
              0.6666666666666666,
              "#ed7953"
             ],
             [
              0.7777777777777778,
              "#fb9f3a"
             ],
             [
              0.8888888888888888,
              "#fdca26"
             ],
             [
              1,
              "#f0f921"
             ]
            ],
            "type": "contour"
           }
          ],
          "contourcarpet": [
           {
            "colorbar": {
             "outlinewidth": 0,
             "ticks": ""
            },
            "type": "contourcarpet"
           }
          ],
          "heatmap": [
           {
            "colorbar": {
             "outlinewidth": 0,
             "ticks": ""
            },
            "colorscale": [
             [
              0,
              "#0d0887"
             ],
             [
              0.1111111111111111,
              "#46039f"
             ],
             [
              0.2222222222222222,
              "#7201a8"
             ],
             [
              0.3333333333333333,
              "#9c179e"
             ],
             [
              0.4444444444444444,
              "#bd3786"
             ],
             [
              0.5555555555555556,
              "#d8576b"
             ],
             [
              0.6666666666666666,
              "#ed7953"
             ],
             [
              0.7777777777777778,
              "#fb9f3a"
             ],
             [
              0.8888888888888888,
              "#fdca26"
             ],
             [
              1,
              "#f0f921"
             ]
            ],
            "type": "heatmap"
           }
          ],
          "histogram": [
           {
            "marker": {
             "pattern": {
              "fillmode": "overlay",
              "size": 10,
              "solidity": 0.2
             }
            },
            "type": "histogram"
           }
          ],
          "histogram2d": [
           {
            "colorbar": {
             "outlinewidth": 0,
             "ticks": ""
            },
            "colorscale": [
             [
              0,
              "#0d0887"
             ],
             [
              0.1111111111111111,
              "#46039f"
             ],
             [
              0.2222222222222222,
              "#7201a8"
             ],
             [
              0.3333333333333333,
              "#9c179e"
             ],
             [
              0.4444444444444444,
              "#bd3786"
             ],
             [
              0.5555555555555556,
              "#d8576b"
             ],
             [
              0.6666666666666666,
              "#ed7953"
             ],
             [
              0.7777777777777778,
              "#fb9f3a"
             ],
             [
              0.8888888888888888,
              "#fdca26"
             ],
             [
              1,
              "#f0f921"
             ]
            ],
            "type": "histogram2d"
           }
          ],
          "histogram2dcontour": [
           {
            "colorbar": {
             "outlinewidth": 0,
             "ticks": ""
            },
            "colorscale": [
             [
              0,
              "#0d0887"
             ],
             [
              0.1111111111111111,
              "#46039f"
             ],
             [
              0.2222222222222222,
              "#7201a8"
             ],
             [
              0.3333333333333333,
              "#9c179e"
             ],
             [
              0.4444444444444444,
              "#bd3786"
             ],
             [
              0.5555555555555556,
              "#d8576b"
             ],
             [
              0.6666666666666666,
              "#ed7953"
             ],
             [
              0.7777777777777778,
              "#fb9f3a"
             ],
             [
              0.8888888888888888,
              "#fdca26"
             ],
             [
              1,
              "#f0f921"
             ]
            ],
            "type": "histogram2dcontour"
           }
          ],
          "mesh3d": [
           {
            "colorbar": {
             "outlinewidth": 0,
             "ticks": ""
            },
            "type": "mesh3d"
           }
          ],
          "parcoords": [
           {
            "line": {
             "colorbar": {
              "outlinewidth": 0,
              "ticks": ""
             }
            },
            "type": "parcoords"
           }
          ],
          "pie": [
           {
            "automargin": true,
            "type": "pie"
           }
          ],
          "scatter": [
           {
            "fillpattern": {
             "fillmode": "overlay",
             "size": 10,
             "solidity": 0.2
            },
            "type": "scatter"
           }
          ],
          "scatter3d": [
           {
            "line": {
             "colorbar": {
              "outlinewidth": 0,
              "ticks": ""
             }
            },
            "marker": {
             "colorbar": {
              "outlinewidth": 0,
              "ticks": ""
             }
            },
            "type": "scatter3d"
           }
          ],
          "scattercarpet": [
           {
            "marker": {
             "colorbar": {
              "outlinewidth": 0,
              "ticks": ""
             }
            },
            "type": "scattercarpet"
           }
          ],
          "scattergeo": [
           {
            "marker": {
             "colorbar": {
              "outlinewidth": 0,
              "ticks": ""
             }
            },
            "type": "scattergeo"
           }
          ],
          "scattergl": [
           {
            "marker": {
             "colorbar": {
              "outlinewidth": 0,
              "ticks": ""
             }
            },
            "type": "scattergl"
           }
          ],
          "scattermap": [
           {
            "marker": {
             "colorbar": {
              "outlinewidth": 0,
              "ticks": ""
             }
            },
            "type": "scattermap"
           }
          ],
          "scattermapbox": [
           {
            "marker": {
             "colorbar": {
              "outlinewidth": 0,
              "ticks": ""
             }
            },
            "type": "scattermapbox"
           }
          ],
          "scatterpolar": [
           {
            "marker": {
             "colorbar": {
              "outlinewidth": 0,
              "ticks": ""
             }
            },
            "type": "scatterpolar"
           }
          ],
          "scatterpolargl": [
           {
            "marker": {
             "colorbar": {
              "outlinewidth": 0,
              "ticks": ""
             }
            },
            "type": "scatterpolargl"
           }
          ],
          "scatterternary": [
           {
            "marker": {
             "colorbar": {
              "outlinewidth": 0,
              "ticks": ""
             }
            },
            "type": "scatterternary"
           }
          ],
          "surface": [
           {
            "colorbar": {
             "outlinewidth": 0,
             "ticks": ""
            },
            "colorscale": [
             [
              0,
              "#0d0887"
             ],
             [
              0.1111111111111111,
              "#46039f"
             ],
             [
              0.2222222222222222,
              "#7201a8"
             ],
             [
              0.3333333333333333,
              "#9c179e"
             ],
             [
              0.4444444444444444,
              "#bd3786"
             ],
             [
              0.5555555555555556,
              "#d8576b"
             ],
             [
              0.6666666666666666,
              "#ed7953"
             ],
             [
              0.7777777777777778,
              "#fb9f3a"
             ],
             [
              0.8888888888888888,
              "#fdca26"
             ],
             [
              1,
              "#f0f921"
             ]
            ],
            "type": "surface"
           }
          ],
          "table": [
           {
            "cells": {
             "fill": {
              "color": "#EBF0F8"
             },
             "line": {
              "color": "white"
             }
            },
            "header": {
             "fill": {
              "color": "#C8D4E3"
             },
             "line": {
              "color": "white"
             }
            },
            "type": "table"
           }
          ]
         },
         "layout": {
          "annotationdefaults": {
           "arrowcolor": "#2a3f5f",
           "arrowhead": 0,
           "arrowwidth": 1
          },
          "autotypenumbers": "strict",
          "coloraxis": {
           "colorbar": {
            "outlinewidth": 0,
            "ticks": ""
           }
          },
          "colorscale": {
           "diverging": [
            [
             0,
             "#8e0152"
            ],
            [
             0.1,
             "#c51b7d"
            ],
            [
             0.2,
             "#de77ae"
            ],
            [
             0.3,
             "#f1b6da"
            ],
            [
             0.4,
             "#fde0ef"
            ],
            [
             0.5,
             "#f7f7f7"
            ],
            [
             0.6,
             "#e6f5d0"
            ],
            [
             0.7,
             "#b8e186"
            ],
            [
             0.8,
             "#7fbc41"
            ],
            [
             0.9,
             "#4d9221"
            ],
            [
             1,
             "#276419"
            ]
           ],
           "sequential": [
            [
             0,
             "#0d0887"
            ],
            [
             0.1111111111111111,
             "#46039f"
            ],
            [
             0.2222222222222222,
             "#7201a8"
            ],
            [
             0.3333333333333333,
             "#9c179e"
            ],
            [
             0.4444444444444444,
             "#bd3786"
            ],
            [
             0.5555555555555556,
             "#d8576b"
            ],
            [
             0.6666666666666666,
             "#ed7953"
            ],
            [
             0.7777777777777778,
             "#fb9f3a"
            ],
            [
             0.8888888888888888,
             "#fdca26"
            ],
            [
             1,
             "#f0f921"
            ]
           ],
           "sequentialminus": [
            [
             0,
             "#0d0887"
            ],
            [
             0.1111111111111111,
             "#46039f"
            ],
            [
             0.2222222222222222,
             "#7201a8"
            ],
            [
             0.3333333333333333,
             "#9c179e"
            ],
            [
             0.4444444444444444,
             "#bd3786"
            ],
            [
             0.5555555555555556,
             "#d8576b"
            ],
            [
             0.6666666666666666,
             "#ed7953"
            ],
            [
             0.7777777777777778,
             "#fb9f3a"
            ],
            [
             0.8888888888888888,
             "#fdca26"
            ],
            [
             1,
             "#f0f921"
            ]
           ]
          },
          "colorway": [
           "#636efa",
           "#EF553B",
           "#00cc96",
           "#ab63fa",
           "#FFA15A",
           "#19d3f3",
           "#FF6692",
           "#B6E880",
           "#FF97FF",
           "#FECB52"
          ],
          "font": {
           "color": "#2a3f5f"
          },
          "geo": {
           "bgcolor": "white",
           "lakecolor": "white",
           "landcolor": "#E5ECF6",
           "showlakes": true,
           "showland": true,
           "subunitcolor": "white"
          },
          "hoverlabel": {
           "align": "left"
          },
          "hovermode": "closest",
          "mapbox": {
           "style": "light"
          },
          "paper_bgcolor": "white",
          "plot_bgcolor": "#E5ECF6",
          "polar": {
           "angularaxis": {
            "gridcolor": "white",
            "linecolor": "white",
            "ticks": ""
           },
           "bgcolor": "#E5ECF6",
           "radialaxis": {
            "gridcolor": "white",
            "linecolor": "white",
            "ticks": ""
           }
          },
          "scene": {
           "xaxis": {
            "backgroundcolor": "#E5ECF6",
            "gridcolor": "white",
            "gridwidth": 2,
            "linecolor": "white",
            "showbackground": true,
            "ticks": "",
            "zerolinecolor": "white"
           },
           "yaxis": {
            "backgroundcolor": "#E5ECF6",
            "gridcolor": "white",
            "gridwidth": 2,
            "linecolor": "white",
            "showbackground": true,
            "ticks": "",
            "zerolinecolor": "white"
           },
           "zaxis": {
            "backgroundcolor": "#E5ECF6",
            "gridcolor": "white",
            "gridwidth": 2,
            "linecolor": "white",
            "showbackground": true,
            "ticks": "",
            "zerolinecolor": "white"
           }
          },
          "shapedefaults": {
           "line": {
            "color": "#2a3f5f"
           }
          },
          "ternary": {
           "aaxis": {
            "gridcolor": "white",
            "linecolor": "white",
            "ticks": ""
           },
           "baxis": {
            "gridcolor": "white",
            "linecolor": "white",
            "ticks": ""
           },
           "bgcolor": "#E5ECF6",
           "caxis": {
            "gridcolor": "white",
            "linecolor": "white",
            "ticks": ""
           }
          },
          "title": {
           "x": 0.05
          },
          "xaxis": {
           "automargin": true,
           "gridcolor": "white",
           "linecolor": "white",
           "ticks": "",
           "title": {
            "standoff": 15
           },
           "zerolinecolor": "white",
           "zerolinewidth": 2
          },
          "yaxis": {
           "automargin": true,
           "gridcolor": "white",
           "linecolor": "white",
           "ticks": "",
           "title": {
            "standoff": 15
           },
           "zerolinecolor": "white",
           "zerolinewidth": 2
          }
         }
        },
        "title": {
         "text": "Words Frequency (for >10 the 1st-50th words)"
        },
        "xaxis": {
         "anchor": "y",
         "domain": [
          0,
          1
         ],
         "title": {
          "text": "Terms"
         }
        },
        "yaxis": {
         "anchor": "x",
         "domain": [
          0,
          1
         ],
         "title": {
          "text": "Frequency"
         }
        }
       }
      }
     },
     "metadata": {},
     "output_type": "display_data"
    },
    {
     "name": "stderr",
     "output_type": "stream",
     "text": [
      "C:\\Users\\omnl0\\AppData\\Local\\Temp\\ipykernel_2952\\3938942053.py:191: FutureWarning:\n",
      "\n",
      "\n",
      "\n",
      "Passing `palette` without assigning `hue` is deprecated and will be removed in v0.14.0. Assign the `x` variable to `hue` and set `legend=False` for the same effect.\n",
      "\n",
      "\n"
     ]
    },
    {
     "data": {
      "image/png": "[encoded data removed]",
      "text/plain": [
       "<Figure size 2000x800 with 1 Axes>"
      ]
     },
     "metadata": {},
     "output_type": "display_data"
    },
    {
     "name": "stderr",
     "output_type": "stream",
     "text": [
      "C:\\Users\\omnl0\\AppData\\Local\\Temp\\ipykernel_2952\\3938942053.py:210: FutureWarning:\n",
      "\n",
      "\n",
      "\n",
      "Passing `palette` without assigning `hue` is deprecated and will be removed in v0.14.0. Assign the `x` variable to `hue` and set `legend=False` for the same effect.\n",
      "\n",
      "\n"
     ]
    },
    {
     "data": {
      "image/png": "[encoded data removed]",
      "text/plain": [
       "<Figure size 2000x800 with 1 Axes>"
      ]
     },
     "metadata": {},
     "output_type": "display_data"
    },
    {
     "data": {
      "application/vnd.plotly.v1+json": {
       "config": {
        "plotlyServerURL": "https://plot.ly"
       },
       "data": [
        {
         "hovertemplate": "subreddit=wallstreetbets<br>subjectivity=%{x}<br>polarity=%{y}<extra></extra>",
         "legendgroup": "wallstreetbets",
         "marker": {
          "color": "#636efa",
          "symbol": "circle"
         },
         "mode": "markers",
         "name": "wallstreetbets",
         "orientation": "v",
         "showlegend": true,
         "type": "scatter",
         "x": {
          "bdata": "AAAAAAAA8D8UbMEWbMHGPwAAAAAAAOA/ZmZmZmZm5j8zMzMzMzPTPwAAAAAAAAAARURERERE6D9VVVVVVVXVP9VBHdRBHeQ/mpmZmZmZqT+amZmZmZnpPzMzMzMzM9M/AAAAAAAAAAAzMzMzMzPTPwAAAAAAAAAAAAAAAAAAAAAzMzMzMzPTPwAAAAAAAAAAmpmZmZmZ6T+YmZmZmZnZPzMzMzMzM9M/AAAAAAAAAADe3d3d3d3VPwAAAAAAAAAAAAAAAAAAAAAAAAAAAAAAABzHcRzHcew/AAAAAAAAAAA0MzMzMzPjPwAAAAAAAPA/AAAAAAAAAAAAAAAAAAAAAGdmZmZmZug/zczMzMzM4D8AAAAAAAAAAJqZmZmZmck/AAAAAAAA8D/iK77iK77aP83MzMzMzNw/AAAAAAAA4D+amZmZmZnZP5qZmZmZmek/ZmZmZmZm4j/NzMzMzMzcPwAAAAAAAAAAAAAAAAAAAAAAAAAAAAAAAPcHGSo7TN0/AAAAAAAAAAAzMzMzMzPjP0VEREREROQ/AAAAAAAAAAAAAAAAAAAAAAAAAAAAAAAAVVVVVVVV4T8zMzMzMzPTP7VgC7ZgC+Y/AAAAAAAAAACamZmZmZnZP5qZmZmZmbk/AAAAAAAA6D/NzMzMzMzcP0UXXXTRRds/AAAAAAAA8D8AAAAAAAAAAGZmZmZmZu4/zczMzMzM6D9GF1100UXnPxzHcRzHcew/NlqjNVqj1T8AAAAAAAAAALm7u7u7u8s/NDMzMzMz4z8AAAAAAADwP3h3d3d3d9c/AAAAAAAAAAAAAAAAAAAAAM3MzMzMzOQ/mpmZmZmZ6T8AAAAAAADwPwAAAAAAAOA/AAAAAAAAAABI4XoUrkfhP4mIiIiIiOA/NDMzMzMz4z8AAAAAAAAAAJqZmZmZmek/zczMzMzM7D8AAAAAAAAAAJqZmZmZmek/AAAAAAAAAABvPQrXo3DdP2ZmZmZmZuY/AAAAAAAAAAAAAAAAAAAAACIiIiIiIuY/AAAAAAAAAAAAAAAAAADwP83MzMzMzOw/AAAAAAAAAAAzMzMzMzPDP5qZmZmZmak/cymXcimX4D8AAAAAAADwP5IkSZIkSeI/AAAAAAAAAAC7u7u7u7vbPwAAAAAAAAAAAAAAAAAAAAAAAAAAAAAAAAAAAAAAAAAAAAAAAAAAAAAAAAAAAAAAANMnfdInfdI/AAAAAAAAAAAAAAAAAAAAAAAAAAAAAAAAAAAAAAAA4D8AAAAAAADwP83MzMzMzOw/AAAAAAAAAAAAAAAAAAAAAAAAAAAAAAAAAAAAAAAAAAAAAAAAAADwPwAAAAAAAMA/ZmZmZmZm5j8AAAAAAAAAAJmZmZmZmek/mH/5l3/51z8AAAAAAAAAAAAAAAAAAAAAAAAAAAAAAAAAAAAAAAAAAAAAAAAAAAAAMlR2mLrc5j8UbMEWbMHGPwAAAAAAAAAAMzMzMzMzwz8jIiIiIiLSP5qZmZmZmbk/AAAAAAAA4D8zMzMzMzPTPwAAAAAAAAAANDMzMzMz4z/NzMzMzMzgP0NERERERNQ/AAAAAAAAAAAAAAAAAAAAAA==",
          "dtype": "f8"
         },
         "xaxis": "x",
         "y": {
          "bdata": "zczMzMzM7L9TVVVVVVW1PwAAAAAAANA/i5mZmZmZqT8AAAAAAADwPwAAAAAAAAAA2d3d3d3dzT8AAAAAAADQPzRaozVao8U/AAAAAAAAyD9mZmZmZmbePwAAAAAAANA/AAAAAAAAAAAAAAAAAADwPwAAAAAAAAAAAAAAAAAAAACWmZmZmZnJPwAAAAAAAAAAmpmZmZmZ6b8zMzMzMzPTv5qZmZmZmck/AAAAAAAAAAAAAAAAAADAPwAAAAAAAAAAAAAAAAAAAAAAAAAAAAAAAAAAAAAAAOA/AAAAAAAAAAAAAAAAAADsPwAAAAAAAOC/AAAAAAAAAAAAAAAAAAAAACMiIiIiIsq/kpmZmZmZuT8AAAAAAAAAAJqZmZmZmck/MzMzMzMz4z+QJEmSJEnCP83MzMzMzMw/mpmZmZmZyT+amZmZmZnpP5KZmZmZmbk/mpmZmZmZ1T8AAAAAAAAAAAAAAAAAAAAAAAAAAAAAAAAAAAAAAAAAAEUjAd+8msg/AAAAAAAAAACamZmZmZnZv0REREREROQ/AAAAAAAAAAAAAAAAAAAAAAAAAAAAAAAAeHd3d3d31z8QERERERHBvzMzMzMzM+O/AAAAAAAAAAAAAAAAAAAAADMzMzMzM9M/AAAAAABM7T/NzMzMzMzMP42nBHlKkMc/mpmZmZmZuT8AAAAAAAAAADMzMzMzM+O/mpmZmZmZ0b+PpwR5SpDXP9EnfdInfcK/F4ZhGIZh0D8AAAAAAAAAAP4QEREREZG/ZmZmZmZm5j+amZmZmZnpP/4QEREREZE/AAAAAAAAAAAAAAAAAAAAAGZmZmZmZsY/mpmZmZmZ6b8AAAAAAADgPwAAAAAAAOA/AAAAAAAAAABSuB6F61HYP5aZmZmZmck/zczMzMzM1L8AAAAAAAAAAJqZmZmZmem/MzMzMzMz4z8AAAAAAAAAAJqZmZmZmem/AAAAAAAAAAC5u7u7u7vLPzMzMzMzM+O/AAAAAAAAAAAAAAAAAAAAAGZmZmZmZsY/AAAAAAAAAAAAAAAAAAAAAGZmZmZmZtq/AAAAAAAAAACamZmZmZm5vzMzMzMzM8M/IEmSJEmStL8AAAAAAADwv7Zt27Zt29Y/AAAAAAAAAACGiIiIiIjAPwAAAAAAAAAAAAAAAAAAAAAAAAAAAAAAAAAAAAAAAAAAAAAAAAAAAAAAAAAAAAAAACd90id90ss/AAAAAAAAAAAAAAAAAAAAAAAAAAAAAAAAmpmZmZmZyT8AAAAAAADwPwAAAAAAAOC/pqqqqqqqqr8AAAAAAAAAAAAAAAAAAAAAAAAAAAAAAADNzMzMzMzsv5qZmZmZmZm/MzMzMzMz078AAAAAAAAAAGdmZmZmZua/EjiBEziB078AAAAAAAAAAAAAAAAAAAAAAAAAAAAAAAAAAAAAAAAAAAAAAAAAAAAAH4XrUbge1T+HPumTPumjPwAAAAAAAAAAAAAAAAAA0L8zMzMzMzOzvzMzMzMzM9M/mpmZmZmZ2T+amZmZmZm5PwAAAAAAAAAAZmZmZmZm5j/5//////+/P32ZmZmZmZk/AAAAAAAAAAAAAAAAAAAAAA==",
          "dtype": "f8"
         },
         "yaxis": "y"
        },
        {
         "hovertemplate": "subreddit=StockMarket<br>subjectivity=%{x}<br>polarity=%{y}<extra></extra>",
         "legendgroup": "StockMarket",
         "marker": {
          "color": "#EF553B",
          "symbol": "diamond"
         },
         "mode": "markers",
         "name": "StockMarket",
         "orientation": "v",
         "showlegend": true,
         "type": "scatter",
         "x": {
          "bdata": "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",
          "dtype": "f8"
         },
         "xaxis": "x",
         "y": {
          "bdata": "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",
          "dtype": "f8"
         },
         "yaxis": "y"
        },
        {
         "hovertemplate": "subreddit=stockstobuytoday<br>subjectivity=%{x}<br>polarity=%{y}<extra></extra>",
         "legendgroup": "stockstobuytoday",
         "marker": {
          "color": "#00cc96",
          "symbol": "square"
         },
         "mode": "markers",
         "name": "stockstobuytoday",
         "orientation": "v",
         "showlegend": true,
         "type": "scatter",
         "x": {
          "bdata": "tJw/y/mz5D8AAAAAAAAAAAAAAAAAAAAAAAAAAAAAAAAAAAAAAAAAABYoJcNvBts/AAAAAAAAAAAAAAAAAAAAAAAAAAAAAAAAAAAAAAAAAAAAAAAAAAAAABSuR+F6FN4/KxuOmPZE1j8AAAAAAADwP4/C9Shcj+I/AAAAAAAAAAAAAAAAAAAAAAAAAAAAAAAAeHd3d3d35z8AAAAAAAAAAAAAAAAAAAAAAAAAAAAAAACZmZmZmZnhPxZddNFFF90/AAAAAAAAAACIiIiIiIjQP0VEREREROQ/AAAAAAAAAAAAAAAAAAAAAJqZmZmZmbk/AAAAAAAA8D8AAAAAAAAAAKAmGTT+aeY/AAAAAAAAAADNzMzMzMzkPwAAAAAAAAAAmpmZmZmZ2T+amZmZmZnZPwAAAAAAAAAAAAAAAAAAAAAzMzMzMzPTPwAAAAAAAOQ/AAAAAAAAAABI4XoUrkfhP2ZmZmZmZt4/AAAAAAAAAAAAAAAAAAAAAAAAAAAAAAAAw1jNc0/b4D+qqqqqqqrqPwAAAAAAAAAAVVVVVVVV5T8AAAAAAAAAADMzMzMzM9M/AAAAAAAAAAADnTbQaQPhP+/u7u7u7uY/AAAAAAAAAAAAAAAAAAAAAAAAAAAAAAAAVVVVVVVV5T8AAAAAAAAAAAAAAAAAAMA/ERERERER4D+0bdu2bdvOPwAAAAAAAAAAMzMzMzMzwz/I4m6KPGjaP5D92I/92Nc/RERERERE5D/e3d3d3d3dPwaj3TnHw98/AAAAAAAA2D8zMzMzMzPTPwAAAAAAAOg/AAAAAAAAAABbsAVbsAXLPwAAAAAAAAAADLZgC7Zg4z8AAAAAAAAAALgehetRuN4/Fl100UUX3T8AAAAAAAAAAMzMzMzMzOc/Fl100UUX3T8AAAAAAAAAAKSJsXXPyNI/AAAAAAAAAAAAAAAAAAAAAAAAAAAAAAAAZmZmZmZm1j8AAAAAAADgPwAAAAAAAAAAdnd3d3d33z/NzMzMzMzUPwAAAAAAAAAAkCRJkiRJwj9sFON5ZNHaPwAAAAAAAAAAtm3btm3b5j8ZhmEYhmHgP+7u7u7u7t4/AAAAAAAAAABJkiRJkiThPwAAAAAAAAAAAAAAAAAAAAAAAAAAAAAAAAAAAAAAAAAAeHd3d3d31z8AAAAAAAAAAAAAAAAAAAAAZ2ZmZmZm4j+amZmZmZm5P83MzMzMzOg/AAAAAAAAAAA0MzMzMzPjP5qZmZmZmbk/VVVVVVVV5T8AAAAAAAAAAAAAAAAAAAAAlD7pkz7p4z+amZmZmZm5P2ZmZmZmZuY/AAAAAAAAAAAAAAAAAAAAAM3MzMzMzOQ/AAAAAAAAAAAAAAAAAAAAAJqZmZmZmbk/AAAAAAAAAACamZmZmZnhP0D2Yz/2Y98/mpmZmZmZuT8iIiIiIiLSPwAAAAAAAPA/AAAAAAAAAACamZmZmZnZP2ZmZmZmZuY/AAAAAAAAAAAAAAAAAADwPwAAAAAAAAAAAAAAAAAAAAA=",
          "dtype": "f8"
         },
         "xaxis": "x",
         "y": {
          "bdata": "sMkmm2yyyz8AAAAAAAAAAAAAAAAAAAAAAAAAAAAAAAAAAAAAAAAAADrYC1j/nbs/AAAAAAAAAAAAAAAAAAAAAAAAAAAAAAAAAAAAAAAAAAAAAAAAAAAAAHsUrkfherQ/FgUvp+DldD8AAAAAAAAAADbQaQOdNtA/AAAAAAAAAAAAAAAAAAAAAAAAAAAAAAAAVVVVVVVV5T8AAAAAAAAAAAAAAAAAAAAAAAAAAAAAAAAAAAAAAACwP3LRRRdddME/AAAAAAAAAABwAidwAiewP5uZmZmZmdk/AAAAAAAAAAAAAAAAAAAAAAAAAAAAAAAAAAAAAAAA8D8AAAAAAAAAAPlNe2angsA/AAAAAAAAAABmZmZmZmbWPwAAAAAAAAAAAAAAAAAA0L+amZmZmZmpvwAAAAAAAAAAAAAAAAAAAADRJ33SJ33CP8nMzMzMzMw/AAAAAAAAAAB0FK5H4Xq0PzMzMzMzM9M/AAAAAAAAAAAAAAAAAAAAAAAAAAAAAAAAAHwYg7g9wz/Z3d3d3d29vwAAAAAAAAAAZmZmZmZmxj8AAAAAAAAAABAREREREdE/AAAAAAAAAAC4HoXrUbi+P7m7u7u7u8s/AAAAAAAAAAAAAAAAAAAAAAAAAAAAAAAAVVVVVVVV1b8AAAAAAAAAAAAAAAAAAAAAhoiIiIiIzj8AAAAAAAAAAAAAAAAAAAAAmpmZmZmZub9A98PHL++2P+0VX/EVX7E/VVVVVVVV4b9mZmZmZmbWP0Xgl8vv1cs/AAAAAAAAAABmZmZmZmbWP5qZmZmZmek/AAAAAAAAAADVgi3Ygi3IPwAAAAAAAAAAI+tceUCyzr8AAAAAAAAAAFnyiyW/WNI/ctFFF110wT8AAAAAAAAAAIaIiIiIiLY/ctFFF110wT8AAAAAAAAAAOsdUwN7x8Q/AAAAAAAAAAAAAAAAAAAAAAAAAAAAAAAAZmZmZmZm1j8AAAAAAADQPwAAAAAAAAAAubu7u7u7yz99mZmZmZmZvwAAAAAAAAAAkCRJkiRJsr8XONi0toC+PwAAAAAAAAAAPkW6ChKHx7/Yj/3Yj/3IP1NVVVVVVcU/AAAAAAAAAACSJEmSJEnSPwAAAAAAAAAAAAAAAAAAAAAAAAAAAAAAAAAAAAAAAAAAfZmZmZmZmT8AAAAAAAAAAAAAAAAAAAAADyRJkiRJYj8AAAAAAAAAAFVVVVVVVdk/AAAAAAAAAABmZmZmZmbmPwAAAAAAANA/ZWZmZmZm5r8AAAAAAAAAAAAAAAAAAAAAEGzBFmzBhj8AAAAAAAAAADMzMzMzM+O/AAAAAAAAAAAAAAAAAAAAAAAAAAAAAOC/AAAAAAAAAAAAAAAAAAAAAAAAAAAAAAAAAAAAAAAAAACSmZmZmZm5PxaGYRiGYcg/AAAAAAAA0D8AAAAAAAAAAAAAAAAAAAAAAAAAAAAAAAAAAAAAAAAAAJqZmZmZmdm/AAAAAAAAAAAzMzMzMzPjPwAAAAAAAAAAAAAAAAAAAAA=",
          "dtype": "f8"
         },
         "yaxis": "y"
        },
        {
         "hovertemplate": "subreddit=stocks<br>subjectivity=%{x}<br>polarity=%{y}<extra></extra>",
         "legendgroup": "stocks",
         "marker": {
          "color": "#ab63fa",
          "symbol": "x"
         },
         "mode": "markers",
         "name": "stocks",
         "orientation": "v",
         "showlegend": true,
         "type": "scatter",
         "x": {
          "bdata": "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",
          "dtype": "f8"
         },
         "xaxis": "x",
         "y": {
          "bdata": "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",
          "dtype": "f8"
         },
         "yaxis": "y"
        }
       ],
       "layout": {
        "legend": {
         "title": {
          "text": "subreddit"
         },
         "tracegroupgap": 0
        },
        "margin": {
         "t": 60
        },
        "template": {
         "data": {
          "bar": [
           {
            "error_x": {
             "color": "#2a3f5f"
            },
            "error_y": {
             "color": "#2a3f5f"
            },
            "marker": {
             "line": {
              "color": "#E5ECF6",
              "width": 0.5
             },
             "pattern": {
              "fillmode": "overlay",
              "size": 10,
              "solidity": 0.2
             }
            },
            "type": "bar"
           }
          ],
          "barpolar": [
           {
            "marker": {
             "line": {
              "color": "#E5ECF6",
              "width": 0.5
             },
             "pattern": {
              "fillmode": "overlay",
              "size": 10,
              "solidity": 0.2
             }
            },
            "type": "barpolar"
           }
          ],
          "carpet": [
           {
            "aaxis": {
             "endlinecolor": "#2a3f5f",
             "gridcolor": "white",
             "linecolor": "white",
             "minorgridcolor": "white",
             "startlinecolor": "#2a3f5f"
            },
            "baxis": {
             "endlinecolor": "#2a3f5f",
             "gridcolor": "white",
             "linecolor": "white",
             "minorgridcolor": "white",
             "startlinecolor": "#2a3f5f"
            },
            "type": "carpet"
           }
          ],
          "choropleth": [
           {
            "colorbar": {
             "outlinewidth": 0,
             "ticks": ""
            },
            "type": "choropleth"
           }
          ],
          "contour": [
           {
            "colorbar": {
             "outlinewidth": 0,
             "ticks": ""
            },
            "colorscale": [
             [
              0,
              "#0d0887"
             ],
             [
              0.1111111111111111,
              "#46039f"
             ],
             [
              0.2222222222222222,
              "#7201a8"
             ],
             [
              0.3333333333333333,
              "#9c179e"
             ],
             [
              0.4444444444444444,
              "#bd3786"
             ],
             [
              0.5555555555555556,
              "#d8576b"
             ],
             [
              0.6666666666666666,
              "#ed7953"
             ],
             [
              0.7777777777777778,
              "#fb9f3a"
             ],
             [
              0.8888888888888888,
              "#fdca26"
             ],
             [
              1,
              "#f0f921"
             ]
            ],
            "type": "contour"
           }
          ],
          "contourcarpet": [
           {
            "colorbar": {
             "outlinewidth": 0,
             "ticks": ""
            },
            "type": "contourcarpet"
           }
          ],
          "heatmap": [
           {
            "colorbar": {
             "outlinewidth": 0,
             "ticks": ""
            },
            "colorscale": [
             [
              0,
              "#0d0887"
             ],
             [
              0.1111111111111111,
              "#46039f"
             ],
             [
              0.2222222222222222,
              "#7201a8"
             ],
             [
              0.3333333333333333,
              "#9c179e"
             ],
             [
              0.4444444444444444,
              "#bd3786"
             ],
             [
              0.5555555555555556,
              "#d8576b"
             ],
             [
              0.6666666666666666,
              "#ed7953"
             ],
             [
              0.7777777777777778,
              "#fb9f3a"
             ],
             [
              0.8888888888888888,
              "#fdca26"
             ],
             [
              1,
              "#f0f921"
             ]
            ],
            "type": "heatmap"
           }
          ],
          "histogram": [
           {
            "marker": {
             "pattern": {
              "fillmode": "overlay",
              "size": 10,
              "solidity": 0.2
             }
            },
            "type": "histogram"
           }
          ],
          "histogram2d": [
           {
            "colorbar": {
             "outlinewidth": 0,
             "ticks": ""
            },
            "colorscale": [
             [
              0,
              "#0d0887"
             ],
             [
              0.1111111111111111,
              "#46039f"
             ],
             [
              0.2222222222222222,
              "#7201a8"
             ],
             [
              0.3333333333333333,
              "#9c179e"
             ],
             [
              0.4444444444444444,
              "#bd3786"
             ],
             [
              0.5555555555555556,
              "#d8576b"
             ],
             [
              0.6666666666666666,
              "#ed7953"
             ],
             [
              0.7777777777777778,
              "#fb9f3a"
             ],
             [
              0.8888888888888888,
              "#fdca26"
             ],
             [
              1,
              "#f0f921"
             ]
            ],
            "type": "histogram2d"
           }
          ],
          "histogram2dcontour": [
           {
            "colorbar": {
             "outlinewidth": 0,
             "ticks": ""
            },
            "colorscale": [
             [
              0,
              "#0d0887"
             ],
             [
              0.1111111111111111,
              "#46039f"
             ],
             [
              0.2222222222222222,
              "#7201a8"
             ],
             [
              0.3333333333333333,
              "#9c179e"
             ],
             [
              0.4444444444444444,
              "#bd3786"
             ],
             [
              0.5555555555555556,
              "#d8576b"
             ],
             [
              0.6666666666666666,
              "#ed7953"
             ],
             [
              0.7777777777777778,
              "#fb9f3a"
             ],
             [
              0.8888888888888888,
              "#fdca26"
             ],
             [
              1,
              "#f0f921"
             ]
            ],
            "type": "histogram2dcontour"
           }
          ],
          "mesh3d": [
           {
            "colorbar": {
             "outlinewidth": 0,
             "ticks": ""
            },
            "type": "mesh3d"
           }
          ],
          "parcoords": [
           {
            "line": {
             "colorbar": {
              "outlinewidth": 0,
              "ticks": ""
             }
            },
            "type": "parcoords"
           }
          ],
          "pie": [
           {
            "automargin": true,
            "type": "pie"
           }
          ],
          "scatter": [
           {
            "fillpattern": {
             "fillmode": "overlay",
             "size": 10,
             "solidity": 0.2
            },
            "type": "scatter"
           }
          ],
          "scatter3d": [
           {
            "line": {
             "colorbar": {
              "outlinewidth": 0,
              "ticks": ""
             }
            },
            "marker": {
             "colorbar": {
              "outlinewidth": 0,
              "ticks": ""
             }
            },
            "type": "scatter3d"
           }
          ],
          "scattercarpet": [
           {
            "marker": {
             "colorbar": {
              "outlinewidth": 0,
              "ticks": ""
             }
            },
            "type": "scattercarpet"
           }
          ],
          "scattergeo": [
           {
            "marker": {
             "colorbar": {
              "outlinewidth": 0,
              "ticks": ""
             }
            },
            "type": "scattergeo"
           }
          ],
          "scattergl": [
           {
            "marker": {
             "colorbar": {
              "outlinewidth": 0,
              "ticks": ""
             }
            },
            "type": "scattergl"
           }
          ],
          "scattermap": [
           {
            "marker": {
             "colorbar": {
              "outlinewidth": 0,
              "ticks": ""
             }
            },
            "type": "scattermap"
           }
          ],
          "scattermapbox": [
           {
            "marker": {
             "colorbar": {
              "outlinewidth": 0,
              "ticks": ""
             }
            },
            "type": "scattermapbox"
           }
          ],
          "scatterpolar": [
           {
            "marker": {
             "colorbar": {
              "outlinewidth": 0,
              "ticks": ""
             }
            },
            "type": "scatterpolar"
           }
          ],
          "scatterpolargl": [
           {
            "marker": {
             "colorbar": {
              "outlinewidth": 0,
              "ticks": ""
             }
            },
            "type": "scatterpolargl"
           }
          ],
          "scatterternary": [
           {
            "marker": {
             "colorbar": {
              "outlinewidth": 0,
              "ticks": ""
             }
            },
            "type": "scatterternary"
           }
          ],
          "surface": [
           {
            "colorbar": {
             "outlinewidth": 0,
             "ticks": ""
            },
            "colorscale": [
             [
              0,
              "#0d0887"
             ],
             [
              0.1111111111111111,
              "#46039f"
             ],
             [
              0.2222222222222222,
              "#7201a8"
             ],
             [
              0.3333333333333333,
              "#9c179e"
             ],
             [
              0.4444444444444444,
              "#bd3786"
             ],
             [
              0.5555555555555556,
              "#d8576b"
             ],
             [
              0.6666666666666666,
              "#ed7953"
             ],
             [
              0.7777777777777778,
              "#fb9f3a"
             ],
             [
              0.8888888888888888,
              "#fdca26"
             ],
             [
              1,
              "#f0f921"
             ]
            ],
            "type": "surface"
           }
          ],
          "table": [
           {
            "cells": {
             "fill": {
              "color": "#EBF0F8"
             },
             "line": {
              "color": "white"
             }
            },
            "header": {
             "fill": {
              "color": "#C8D4E3"
             },
             "line": {
              "color": "white"
             }
            },
            "type": "table"
           }
          ]
         },
         "layout": {
          "annotationdefaults": {
           "arrowcolor": "#2a3f5f",
           "arrowhead": 0,
           "arrowwidth": 1
          },
          "autotypenumbers": "strict",
          "coloraxis": {
           "colorbar": {
            "outlinewidth": 0,
            "ticks": ""
           }
          },
          "colorscale": {
           "diverging": [
            [
             0,
             "#8e0152"
            ],
            [
             0.1,
             "#c51b7d"
            ],
            [
             0.2,
             "#de77ae"
            ],
            [
             0.3,
             "#f1b6da"
            ],
            [
             0.4,
             "#fde0ef"
            ],
            [
             0.5,
             "#f7f7f7"
            ],
            [
             0.6,
             "#e6f5d0"
            ],
            [
             0.7,
             "#b8e186"
            ],
            [
             0.8,
             "#7fbc41"
            ],
            [
             0.9,
             "#4d9221"
            ],
            [
             1,
             "#276419"
            ]
           ],
           "sequential": [
            [
             0,
             "#0d0887"
            ],
            [
             0.1111111111111111,
             "#46039f"
            ],
            [
             0.2222222222222222,
             "#7201a8"
            ],
            [
             0.3333333333333333,
             "#9c179e"
            ],
            [
             0.4444444444444444,
             "#bd3786"
            ],
            [
             0.5555555555555556,
             "#d8576b"
            ],
            [
             0.6666666666666666,
             "#ed7953"
            ],
            [
             0.7777777777777778,
             "#fb9f3a"
            ],
            [
             0.8888888888888888,
             "#fdca26"
            ],
            [
             1,
             "#f0f921"
            ]
           ],
           "sequentialminus": [
            [
             0,
             "#0d0887"
            ],
            [
             0.1111111111111111,
             "#46039f"
            ],
            [
             0.2222222222222222,
             "#7201a8"
            ],
            [
             0.3333333333333333,
             "#9c179e"
            ],
            [
             0.4444444444444444,
             "#bd3786"
            ],
            [
             0.5555555555555556,
             "#d8576b"
            ],
            [
             0.6666666666666666,
             "#ed7953"
            ],
            [
             0.7777777777777778,
             "#fb9f3a"
            ],
            [
             0.8888888888888888,
             "#fdca26"
            ],
            [
             1,
             "#f0f921"
            ]
           ]
          },
          "colorway": [
           "#636efa",
           "#EF553B",
           "#00cc96",
           "#ab63fa",
           "#FFA15A",
           "#19d3f3",
           "#FF6692",
           "#B6E880",
           "#FF97FF",
           "#FECB52"
          ],
          "font": {
           "color": "#2a3f5f"
          },
          "geo": {
           "bgcolor": "white",
           "lakecolor": "white",
           "landcolor": "#E5ECF6",
           "showlakes": true,
           "showland": true,
           "subunitcolor": "white"
          },
          "hoverlabel": {
           "align": "left"
          },
          "hovermode": "closest",
          "mapbox": {
           "style": "light"
          },
          "paper_bgcolor": "white",
          "plot_bgcolor": "#E5ECF6",
          "polar": {
           "angularaxis": {
            "gridcolor": "white",
            "linecolor": "white",
            "ticks": ""
           },
           "bgcolor": "#E5ECF6",
           "radialaxis": {
            "gridcolor": "white",
            "linecolor": "white",
            "ticks": ""
           }
          },
          "scene": {
           "xaxis": {
            "backgroundcolor": "#E5ECF6",
            "gridcolor": "white",
            "gridwidth": 2,
            "linecolor": "white",
            "showbackground": true,
            "ticks": "",
            "zerolinecolor": "white"
           },
           "yaxis": {
            "backgroundcolor": "#E5ECF6",
            "gridcolor": "white",
            "gridwidth": 2,
            "linecolor": "white",
            "showbackground": true,
            "ticks": "",
            "zerolinecolor": "white"
           },
           "zaxis": {
            "backgroundcolor": "#E5ECF6",
            "gridcolor": "white",
            "gridwidth": 2,
            "linecolor": "white",
            "showbackground": true,
            "ticks": "",
            "zerolinecolor": "white"
           }
          },
          "shapedefaults": {
           "line": {
            "color": "#2a3f5f"
           }
          },
          "ternary": {
           "aaxis": {
            "gridcolor": "white",
            "linecolor": "white",
            "ticks": ""
           },
           "baxis": {
            "gridcolor": "white",
            "linecolor": "white",
            "ticks": ""
           },
           "bgcolor": "#E5ECF6",
           "caxis": {
            "gridcolor": "white",
            "linecolor": "white",
            "ticks": ""
           }
          },
          "title": {
           "x": 0.05
          },
          "xaxis": {
           "automargin": true,
           "gridcolor": "white",
           "linecolor": "white",
           "ticks": "",
           "title": {
            "standoff": 15
           },
           "zerolinecolor": "white",
           "zerolinewidth": 2
          },
          "yaxis": {
           "automargin": true,
           "gridcolor": "white",
           "linecolor": "white",
           "ticks": "",
           "title": {
            "standoff": 15
           },
           "zerolinecolor": "white",
           "zerolinewidth": 2
          }
         }
        },
        "xaxis": {
         "anchor": "y",
         "domain": [
          0,
          1
         ],
         "title": {
          "text": "subjectivity"
         }
        },
        "yaxis": {
         "anchor": "x",
         "domain": [
          0,
          1
         ],
         "title": {
          "text": "polarity"
         }
        }
       }
      }
     },
     "metadata": {},
     "output_type": "display_data"
    },
    {
     "data": {
      "application/vnd.plotly.v1+json": {
       "config": {
        "plotlyServerURL": "https://plot.ly"
       },
       "data": [
        {
         "hovertemplate": "hour=%{x}<br>polarity=%{y}<extra></extra>",
         "legendgroup": "",
         "line": {
          "color": "#636efa",
          "dash": "solid"
         },
         "marker": {
          "symbol": "circle"
         },
         "mode": "lines+markers",
         "name": "",
         "orientation": "v",
         "showlegend": false,
         "type": "scatter",
         "x": {
          "bdata": "AAAAAAEAAAACAAAAAwAAAAQAAAAFAAAABgAAAAcAAAAIAAAACQAAAAoAAAALAAAADAAAAA0AAAAOAAAADwAAABAAAAARAAAAEgAAABMAAAAUAAAAFQAAABYAAAAXAAAA",
          "dtype": "i4"
         },
         "xaxis": "x",
         "y": {
          "bdata": "7xzBE9VBdT8orhND3fC3PxAodp0pScA/MaXFYUS9lD/IrRyDIy+YP/Q85xdc98A/aroLJCTtp79Ep8nvUXS6P1EYfa76Ub4/WPv1MGbmzT/nRzpXNHGevzDRTExbqG0/vkAYHIgCor+A4Ymb5C9tP97ZXSFpo64/yFKKrV4XkD9dTWFeka5tP3JqZdpr7q2/jcmYjMmYtb8x8QmWV3Csv7JMuMv7Bsc/k+8zmk2Ntj/6sR/7sR+xP1FDUsn75bI/",
          "dtype": "f8"
         },
         "yaxis": "y"
        }
       ],
       "layout": {
        "legend": {
         "tracegroupgap": 0
        },
        "template": {
         "data": {
          "bar": [
           {
            "error_x": {
             "color": "#2a3f5f"
            },
            "error_y": {
             "color": "#2a3f5f"
            },
            "marker": {
             "line": {
              "color": "white",
              "width": 0.5
             },
             "pattern": {
              "fillmode": "overlay",
              "size": 10,
              "solidity": 0.2
             }
            },
            "type": "bar"
           }
          ],
          "barpolar": [
           {
            "marker": {
             "line": {
              "color": "white",
              "width": 0.5
             },
             "pattern": {
              "fillmode": "overlay",
              "size": 10,
              "solidity": 0.2
             }
            },
            "type": "barpolar"
           }
          ],
          "carpet": [
           {
            "aaxis": {
             "endlinecolor": "#2a3f5f",
             "gridcolor": "#C8D4E3",
             "linecolor": "#C8D4E3",
             "minorgridcolor": "#C8D4E3",
             "startlinecolor": "#2a3f5f"
            },
            "baxis": {
             "endlinecolor": "#2a3f5f",
             "gridcolor": "#C8D4E3",
             "linecolor": "#C8D4E3",
             "minorgridcolor": "#C8D4E3",
             "startlinecolor": "#2a3f5f"
            },
            "type": "carpet"
           }
          ],
          "choropleth": [
           {
            "colorbar": {
             "outlinewidth": 0,
             "ticks": ""
            },
            "type": "choropleth"
           }
          ],
          "contour": [
           {
            "colorbar": {
             "outlinewidth": 0,
             "ticks": ""
            },
            "colorscale": [
             [
              0,
              "#0d0887"
             ],
             [
              0.1111111111111111,
              "#46039f"
             ],
             [
              0.2222222222222222,
              "#7201a8"
             ],
             [
              0.3333333333333333,
              "#9c179e"
             ],
             [
              0.4444444444444444,
              "#bd3786"
             ],
             [
              0.5555555555555556,
              "#d8576b"
             ],
             [
              0.6666666666666666,
              "#ed7953"
             ],
             [
              0.7777777777777778,
              "#fb9f3a"
             ],
             [
              0.8888888888888888,
              "#fdca26"
             ],
             [
              1,
              "#f0f921"
             ]
            ],
            "type": "contour"
           }
          ],
          "contourcarpet": [
           {
            "colorbar": {
             "outlinewidth": 0,
             "ticks": ""
            },
            "type": "contourcarpet"
           }
          ],
          "heatmap": [
           {
            "colorbar": {
             "outlinewidth": 0,
             "ticks": ""
            },
            "colorscale": [
             [
              0,
              "#0d0887"
             ],
             [
              0.1111111111111111,
              "#46039f"
             ],
             [
              0.2222222222222222,
              "#7201a8"
             ],
             [
              0.3333333333333333,
              "#9c179e"
             ],
             [
              0.4444444444444444,
              "#bd3786"
             ],
             [
              0.5555555555555556,
              "#d8576b"
             ],
             [
              0.6666666666666666,
              "#ed7953"
             ],
             [
              0.7777777777777778,
              "#fb9f3a"
             ],
             [
              0.8888888888888888,
              "#fdca26"
             ],
             [
              1,
              "#f0f921"
             ]
            ],
            "type": "heatmap"
           }
          ],
          "histogram": [
           {
            "marker": {
             "pattern": {
              "fillmode": "overlay",
              "size": 10,
              "solidity": 0.2
             }
            },
            "type": "histogram"
           }
          ],
          "histogram2d": [
           {
            "colorbar": {
             "outlinewidth": 0,
             "ticks": ""
            },
            "colorscale": [
             [
              0,
              "#0d0887"
             ],
             [
              0.1111111111111111,
              "#46039f"
             ],
             [
              0.2222222222222222,
              "#7201a8"
             ],
             [
              0.3333333333333333,
              "#9c179e"
             ],
             [
              0.4444444444444444,
              "#bd3786"
             ],
             [
              0.5555555555555556,
              "#d8576b"
             ],
             [
              0.6666666666666666,
              "#ed7953"
             ],
             [
              0.7777777777777778,
              "#fb9f3a"
             ],
             [
              0.8888888888888888,
              "#fdca26"
             ],
             [
              1,
              "#f0f921"
             ]
            ],
            "type": "histogram2d"
           }
          ],
          "histogram2dcontour": [
           {
            "colorbar": {
             "outlinewidth": 0,
             "ticks": ""
            },
            "colorscale": [
             [
              0,
              "#0d0887"
             ],
             [
              0.1111111111111111,
              "#46039f"
             ],
             [
              0.2222222222222222,
              "#7201a8"
             ],
             [
              0.3333333333333333,
              "#9c179e"
             ],
             [
              0.4444444444444444,
              "#bd3786"
             ],
             [
              0.5555555555555556,
              "#d8576b"
             ],
             [
              0.6666666666666666,
              "#ed7953"
             ],
             [
              0.7777777777777778,
              "#fb9f3a"
             ],
             [
              0.8888888888888888,
              "#fdca26"
             ],
             [
              1,
              "#f0f921"
             ]
            ],
            "type": "histogram2dcontour"
           }
          ],
          "mesh3d": [
           {
            "colorbar": {
             "outlinewidth": 0,
             "ticks": ""
            },
            "type": "mesh3d"
           }
          ],
          "parcoords": [
           {
            "line": {
             "colorbar": {
              "outlinewidth": 0,
              "ticks": ""
             }
            },
            "type": "parcoords"
           }
          ],
          "pie": [
           {
            "automargin": true,
            "type": "pie"
           }
          ],
          "scatter": [
           {
            "fillpattern": {
             "fillmode": "overlay",
             "size": 10,
             "solidity": 0.2
            },
            "type": "scatter"
           }
          ],
          "scatter3d": [
           {
            "line": {
             "colorbar": {
              "outlinewidth": 0,
              "ticks": ""
             }
            },
            "marker": {
             "colorbar": {
              "outlinewidth": 0,
              "ticks": ""
             }
            },
            "type": "scatter3d"
           }
          ],
          "scattercarpet": [
           {
            "marker": {
             "colorbar": {
              "outlinewidth": 0,
              "ticks": ""
             }
            },
            "type": "scattercarpet"
           }
          ],
          "scattergeo": [
           {
            "marker": {
             "colorbar": {
              "outlinewidth": 0,
              "ticks": ""
             }
            },
            "type": "scattergeo"
           }
          ],
          "scattergl": [
           {
            "marker": {
             "colorbar": {
              "outlinewidth": 0,
              "ticks": ""
             }
            },
            "type": "scattergl"
           }
          ],
          "scattermap": [
           {
            "marker": {
             "colorbar": {
              "outlinewidth": 0,
              "ticks": ""
             }
            },
            "type": "scattermap"
           }
          ],
          "scattermapbox": [
           {
            "marker": {
             "colorbar": {
              "outlinewidth": 0,
              "ticks": ""
             }
            },
            "type": "scattermapbox"
           }
          ],
          "scatterpolar": [
           {
            "marker": {
             "colorbar": {
              "outlinewidth": 0,
              "ticks": ""
             }
            },
            "type": "scatterpolar"
           }
          ],
          "scatterpolargl": [
           {
            "marker": {
             "colorbar": {
              "outlinewidth": 0,
              "ticks": ""
             }
            },
            "type": "scatterpolargl"
           }
          ],
          "scatterternary": [
           {
            "marker": {
             "colorbar": {
              "outlinewidth": 0,
              "ticks": ""
             }
            },
            "type": "scatterternary"
           }
          ],
          "surface": [
           {
            "colorbar": {
             "outlinewidth": 0,
             "ticks": ""
            },
            "colorscale": [
             [
              0,
              "#0d0887"
             ],
             [
              0.1111111111111111,
              "#46039f"
             ],
             [
              0.2222222222222222,
              "#7201a8"
             ],
             [
              0.3333333333333333,
              "#9c179e"
             ],
             [
              0.4444444444444444,
              "#bd3786"
             ],
             [
              0.5555555555555556,
              "#d8576b"
             ],
             [
              0.6666666666666666,
              "#ed7953"
             ],
             [
              0.7777777777777778,
              "#fb9f3a"
             ],
             [
              0.8888888888888888,
              "#fdca26"
             ],
             [
              1,
              "#f0f921"
             ]
            ],
            "type": "surface"
           }
          ],
          "table": [
           {
            "cells": {
             "fill": {
              "color": "#EBF0F8"
             },
             "line": {
              "color": "white"
             }
            },
            "header": {
             "fill": {
              "color": "#C8D4E3"
             },
             "line": {
              "color": "white"
             }
            },
            "type": "table"
           }
          ]
         },
         "layout": {
          "annotationdefaults": {
           "arrowcolor": "#2a3f5f",
           "arrowhead": 0,
           "arrowwidth": 1
          },
          "autotypenumbers": "strict",
          "coloraxis": {
           "colorbar": {
            "outlinewidth": 0,
            "ticks": ""
           }
          },
          "colorscale": {
           "diverging": [
            [
             0,
             "#8e0152"
            ],
            [
             0.1,
             "#c51b7d"
            ],
            [
             0.2,
             "#de77ae"
            ],
            [
             0.3,
             "#f1b6da"
            ],
            [
             0.4,
             "#fde0ef"
            ],
            [
             0.5,
             "#f7f7f7"
            ],
            [
             0.6,
             "#e6f5d0"
            ],
            [
             0.7,
             "#b8e186"
            ],
            [
             0.8,
             "#7fbc41"
            ],
            [
             0.9,
             "#4d9221"
            ],
            [
             1,
             "#276419"
            ]
           ],
           "sequential": [
            [
             0,
             "#0d0887"
            ],
            [
             0.1111111111111111,
             "#46039f"
            ],
            [
             0.2222222222222222,
             "#7201a8"
            ],
            [
             0.3333333333333333,
             "#9c179e"
            ],
            [
             0.4444444444444444,
             "#bd3786"
            ],
            [
             0.5555555555555556,
             "#d8576b"
            ],
            [
             0.6666666666666666,
             "#ed7953"
            ],
            [
             0.7777777777777778,
             "#fb9f3a"
            ],
            [
             0.8888888888888888,
             "#fdca26"
            ],
            [
             1,
             "#f0f921"
            ]
           ],
           "sequentialminus": [
            [
             0,
             "#0d0887"
            ],
            [
             0.1111111111111111,
             "#46039f"
            ],
            [
             0.2222222222222222,
             "#7201a8"
            ],
            [
             0.3333333333333333,
             "#9c179e"
            ],
            [
             0.4444444444444444,
             "#bd3786"
            ],
            [
             0.5555555555555556,
             "#d8576b"
            ],
            [
             0.6666666666666666,
             "#ed7953"
            ],
            [
             0.7777777777777778,
             "#fb9f3a"
            ],
            [
             0.8888888888888888,
             "#fdca26"
            ],
            [
             1,
             "#f0f921"
            ]
           ]
          },
          "colorway": [
           "#636efa",
           "#EF553B",
           "#00cc96",
           "#ab63fa",
           "#FFA15A",
           "#19d3f3",
           "#FF6692",
           "#B6E880",
           "#FF97FF",
           "#FECB52"
          ],
          "font": {
           "color": "#2a3f5f"
          },
          "geo": {
           "bgcolor": "white",
           "lakecolor": "white",
           "landcolor": "white",
           "showlakes": true,
           "showland": true,
           "subunitcolor": "#C8D4E3"
          },
          "hoverlabel": {
           "align": "left"
          },
          "hovermode": "closest",
          "mapbox": {
           "style": "light"
          },
          "paper_bgcolor": "white",
          "plot_bgcolor": "white",
          "polar": {
           "angularaxis": {
            "gridcolor": "#EBF0F8",
            "linecolor": "#EBF0F8",
            "ticks": ""
           },
           "bgcolor": "white",
           "radialaxis": {
            "gridcolor": "#EBF0F8",
            "linecolor": "#EBF0F8",
            "ticks": ""
           }
          },
          "scene": {
           "xaxis": {
            "backgroundcolor": "white",
            "gridcolor": "#DFE8F3",
            "gridwidth": 2,
            "linecolor": "#EBF0F8",
            "showbackground": true,
            "ticks": "",
            "zerolinecolor": "#EBF0F8"
           },
           "yaxis": {
            "backgroundcolor": "white",
            "gridcolor": "#DFE8F3",
            "gridwidth": 2,
            "linecolor": "#EBF0F8",
            "showbackground": true,
            "ticks": "",
            "zerolinecolor": "#EBF0F8"
           },
           "zaxis": {
            "backgroundcolor": "white",
            "gridcolor": "#DFE8F3",
            "gridwidth": 2,
            "linecolor": "#EBF0F8",
            "showbackground": true,
            "ticks": "",
            "zerolinecolor": "#EBF0F8"
           }
          },
          "shapedefaults": {
           "line": {
            "color": "#2a3f5f"
           }
          },
          "ternary": {
           "aaxis": {
            "gridcolor": "#DFE8F3",
            "linecolor": "#A2B1C6",
            "ticks": ""
           },
           "baxis": {
            "gridcolor": "#DFE8F3",
            "linecolor": "#A2B1C6",
            "ticks": ""
           },
           "bgcolor": "white",
           "caxis": {
            "gridcolor": "#DFE8F3",
            "linecolor": "#A2B1C6",
            "ticks": ""
           }
          },
          "title": {
           "x": 0.05
          },
          "xaxis": {
           "automargin": true,
           "gridcolor": "#EBF0F8",
           "linecolor": "#EBF0F8",
           "ticks": "",
           "title": {
            "standoff": 15
           },
           "zerolinecolor": "#EBF0F8",
           "zerolinewidth": 2
          },
          "yaxis": {
           "automargin": true,
           "gridcolor": "#EBF0F8",
           "linecolor": "#EBF0F8",
           "ticks": "",
           "title": {
            "standoff": 15
           },
           "zerolinecolor": "#EBF0F8",
           "zerolinewidth": 2
          }
         }
        },
        "title": {
         "text": "Average Polarity by Hour of Day (All Subreddits Combined)"
        },
        "xaxis": {
         "anchor": "y",
         "domain": [
          0,
          1
         ],
         "dtick": 1,
         "title": {
          "text": "Hour of Day"
         }
        },
        "yaxis": {
         "anchor": "x",
         "domain": [
          0,
          1
         ],
         "title": {
          "text": "Average Polarity"
         }
        }
       }
      }
     },
     "metadata": {},
     "output_type": "display_data"
    }
   ],
   "source": [
    "### Begin Assignment Here\n",
    "\n",
    "# SETUP\n",
    "import pandas as pd\n",
    "import numpy as np\n",
    "import nltk\n",
    "\n",
    "nltk.download(\"punkt\")  # download the NLTK datasets\n",
    "nltk.download(\"punkt_tab\")\n",
    "from sklearn.feature_extraction.text import CountVectorizer\n",
    "import matplotlib.pyplot as plt\n",
    "import plotly as py\n",
    "import plotly.express as px\n",
    "import plotly.graph_objects as go\n",
    "import seaborn as sns\n",
    "import math\n",
    "import random\n",
    "\n",
    "# If you get \"ModuleNotFoundError: No module named 'PAMI'\"\n",
    "# run the following in a new Jupyter cell:\n",
    "# !pip3 install PAMI\n",
    "import PAMI\n",
    "import umap\n",
    "import helpers.data_mining_helpers as dmh\n",
    "\n",
    "\n",
    "# IMPORT NEW DATASET AND SELECT NECESSARY COLUMNS\n",
    "dtsetread = pd.read_csv(\"newdataset/Reddit-stock-sentiment.csv\")\n",
    "dtset = dtsetread[\n",
    "    [\"subreddit\", \"text\", \"entities\", \"subjectivity\", \"polarity\", \"sentiment\"]\n",
    "]\n",
    "\n",
    "# PRINT THE FIRST THREE TEXTS (EXCERCISE 1)\n",
    "for i in range(3):\n",
    "    print(f\"Example Text {i+1}:\")\n",
    "    print(dtset[\"text\"].iloc[i])\n",
    "    print(\"-\" * 80)\n",
    "\n",
    "# WAYS OF QUERY (EXCERCISE 2&3)\n",
    "dtset[:10][[\"text\", \"entities\"]]  # to compare the text and the extracted entities\n",
    "dtset.query(\"subreddit=='wallstreetbets'\")  # to see certain type of reddits\n",
    "dtset[dtset[\"subreddit\"].isin([\"stockstobuytoday\", \"StockMarket\"])][:40]\n",
    "dtset[dtset[\"subreddit\"] == \"wallstreetbets\"][::10][:5]\n",
    "\n",
    "# CHECK MISSING VALUE (EXERCISE 4)\n",
    "dtset.isnull().apply(\n",
    "    lambda x: dmh.check_missing_values(x)\n",
    ")  # originally no missing value\n",
    "dtset.isnull().apply(lambda x: dmh.check_missing_values(x), axis=1)\n",
    "dummy_dict = [{\"text\": \"dummy_record\", \"sentiment\": 1}]\n",
    "dtset = pd.concat(\n",
    "    [dtset, pd.DataFrame(dummy_dict)], ignore_index=True\n",
    ")  # creating a row with missing value in four columns\n",
    "dtset.dropna(inplace=True)\n",
    "dtset.isnull().apply(lambda x: dmh.check_missing_values(x))  # dropping missing value\n",
    "\n",
    "# CHECK DUPLICATED VALUE\n",
    "dtset.duplicated()\n",
    "sum(dtset.duplicated())\n",
    "print(\n",
    "    f\"Original duplicated value num = {sum(dtset.duplicated())}\"\n",
    ")  # 23 duplicate values\n",
    "print(f\"Original dataset len = {len(dtset)}\")\n",
    "dtset.drop_duplicates(keep=False, inplace=True)\n",
    "print(f\"After dropping duplicate dataset len = {len(dtset)}\")\n",
    "print(\"-\" * 80)\n",
    "\n",
    "# SAMPLING\n",
    "dt_sp = dtset.sample(n=400)\n",
    "print(f\"The length of dtset sample = {len(dt_sp)}\")\n",
    "print(dt_sp[0:5][\"text\"])\n",
    "print(\"-\" * 80)\n",
    "\n",
    "# BAR CHART (EXERCISE 7&8)\n",
    "print(\n",
    "    f\"There are {dtset['subreddit'].nunique()} kinds of Subreddits, and they are {dtset['subreddit'].unique()}\"\n",
    ")\n",
    "print(dtset.subreddit.value_counts())\n",
    "dtset.subreddit.value_counts().plot(\n",
    "    kind=\"bar\",\n",
    "    title=\"Subreddit Distribution\",\n",
    "    ylim=[0, dtset.subreddit.value_counts().max() + 30],\n",
    "    rot=0,\n",
    "    fontsize=11,\n",
    "    figsize=(8, 3),\n",
    ")\n",
    "\n",
    "data = {\n",
    "    \"Original Dataset\": dtset.subreddit.value_counts(),\n",
    "    \"Sampled Dataset\": dt_sp.subreddit.value_counts(),\n",
    "}\n",
    "dt_compare = pd.DataFrame.from_dict(data)\n",
    "dt_compare.plot(\n",
    "    kind=\"bar\",\n",
    "    width=0.4,\n",
    "    title=\"Subreddit Distribution (compared with sample)\",\n",
    "    ylim=[0, dtset.subreddit.value_counts().max() + 40],\n",
    "    rot=0,\n",
    "    fontsize=10,\n",
    "    figsize=(7, 4),\n",
    ")\n",
    "plt.legend(fontsize=8)\n",
    "print(\"-\" * 80)\n",
    "\n",
    "# COUNTVECTORIZER (EXERCISE 9&10)\n",
    "count_vect = CountVectorizer()\n",
    "dt_counts = count_vect.fit_transform(dtset.entities)\n",
    "dt_df = pd.DataFrame(dt_counts.toarray(), columns=count_vect.get_feature_names_out())\n",
    "print(dt_df.head())\n",
    "print(f\"the 100th word is {count_vect.get_feature_names_out()[100]}\")\n",
    "\n",
    "analyze = count_vect.build_analyzer()  # review how to do tokenize\n",
    "analyze(dtset.text[1])\n",
    "\n",
    "dt_counts[0:5, 0:100].toarray()  # we found out that there is a \"1\" in the sparse matrix\n",
    "row = dt_counts[3, 0:100]\n",
    "idx = row.indices\n",
    "vals = row.data\n",
    "vocab = count_vect.get_feature_names_out()\n",
    "for w, c in zip(vocab[idx], vals):\n",
    "    print(\n",
    "        f\"{w} : {int(c)}\"\n",
    "    )  # so we know the word is \"achievement\" and it appears one time\n",
    "print(\"-\" * 80)\n",
    "\n",
    "# SAMPLED HEATMAP (EXERCISE 11)\n",
    "sample_docs = random.sample(range(dt_counts.shape[0]), 100)\n",
    "sample_terms = random.sample(range(dt_counts.shape[1]), 100)\n",
    "\n",
    "sample_matrix = dt_counts[sample_docs, :][:, sample_terms].toarray()\n",
    "\n",
    "df_sample = pd.DataFrame(\n",
    "    sample_matrix,\n",
    "    columns=[f\"term_{i}\" for i in sample_terms],\n",
    "    index=[f\"redd_{i}\" for i in sample_docs],\n",
    ")\n",
    "\n",
    "plt.figure(figsize=(14, 10))\n",
    "sns.heatmap(df_sample, cmap=\"YlGnBu\", cbar=True)\n",
    "plt.title(\"Sampled Term-Redd Matrix (100 docs × 100 terms)\")\n",
    "plt.show()  # draw heatmap\n",
    "\n",
    "# TERMS FREQUENCY AND TRANSFORMATION (EXERCISE 12-15)\n",
    "term_frequencies = np.asarray(dt_counts.sum(axis=0))[\n",
    "    0\n",
    "]  # first graph : 300 words and frequency\n",
    "\n",
    "tempdata = {\n",
    "    \"Terms\": count_vect.get_feature_names_out()[:300],\n",
    "    \"Frequency\": term_frequencies[:300],\n",
    "}\n",
    "plotly_df = pd.DataFrame.from_records(tempdata)\n",
    "fig = px.bar(\n",
    "    tempdata,\n",
    "    x=\"Terms\",\n",
    "    y=\"Frequency\",\n",
    "    title=\"Words Frequency (for the 1st-300th words)\",\n",
    ")\n",
    "fig.show()\n",
    "\n",
    "temp_freq = []  # second graph : 50 words with frquency >10\n",
    "temp_term = []\n",
    "temp_cnt = 0\n",
    "\n",
    "for idx, val in enumerate(term_frequencies):\n",
    "    if temp_cnt > 50:\n",
    "        break\n",
    "    if val >= 10:\n",
    "        temp_freq.append(val)\n",
    "        temp_term.append(count_vect.get_feature_names_out()[idx])\n",
    "        temp_cnt += 1\n",
    "\n",
    "tempdata2 = {\"Terms\": temp_term, \"Frequency\": temp_freq}\n",
    "plotly_df2 = pd.DataFrame.from_records(tempdata2)\n",
    "fig = px.bar(\n",
    "    plotly_df2,\n",
    "    x=\"Terms\",\n",
    "    y=\"Frequency\",\n",
    "    title=\"Words Frequency (for >10 the 1st-50th words)\",\n",
    ")\n",
    "fig.show()\n",
    "\n",
    "top_n = 100  # third graph : long-tail presentation\n",
    "sorted_idx = term_frequencies.argsort()[::-1]\n",
    "top_idx = sorted_idx[:top_n]\n",
    "\n",
    "top_words = count_vect.get_feature_names_out()[top_idx]\n",
    "top_counts = term_frequencies[top_idx]\n",
    "\n",
    "plt.figure(figsize=(20, 8))\n",
    "sns.barplot(x=top_words, y=top_counts, palette=\"viridis\")\n",
    "plt.xticks(rotation=90)\n",
    "plt.title(f\"Top {top_n} Most Frequent Words\")\n",
    "plt.ylabel(\"Frequency\")\n",
    "plt.show()\n",
    "\n",
    "term_frequencies_log = [\n",
    "    math.log(i) for i in term_frequencies\n",
    "]  # fourth graph : log transformation\n",
    "term_frequencies_log_arr = np.array(term_frequencies_log)\n",
    "\n",
    "top_n = 100\n",
    "sorted_idx = term_frequencies_log_arr.argsort()[::-1]\n",
    "top_idx = sorted_idx[:top_n]\n",
    "\n",
    "top_words = count_vect.get_feature_names_out()[top_idx]\n",
    "top_counts = term_frequencies_log_arr[top_idx]\n",
    "\n",
    "plt.figure(figsize=(20, 8))\n",
    "sns.barplot(x=top_words, y=top_counts, palette=\"viridis\")\n",
    "plt.xticks(rotation=90)\n",
    "plt.title(f\"Top {top_n} Most Frequent Words (Logged)\")\n",
    "plt.ylabel(\"log(Frequency)\")\n",
    "plt.show()\n",
    "\n",
    "# MY OWN ANALYSIS AND NEW DATA VISUALIZATIONS\n",
    "fig = px.scatter(\n",
    "    dtset, x=\"subjectivity\", y=\"polarity\", color=\"subreddit\", symbol=\"subreddit\"\n",
    ")  # first graph: scatter graph\n",
    "fig.show()\n",
    "\n",
    "# My Insight：\n",
    "# Most posts exhibit polarity values close to zero, indicating that discussions in Reddit’s investment communities are largely neutral in emotional tone.\n",
    "# The subjectivity values mostly range between 0.3 and 0.8, suggesting that users express personal opinions but not extreme subjectivity.\n",
    "# Distributions across different subreddits show minimal variation, implying that discussions tend to revolve around similar financial topics and share comparable emotional tones.\n",
    "# In the highly subjective and strongly positive region (upper-right corner), clusters of wallstreetbets posts can be observed. This indicates that the community features exaggerated, emotionally charged, and speculative expressions.\n",
    "# When subjectivity is low, polarity values concentrate near zero—reflecting more objective statements with limited emotional expression.\n",
    "# Conversely, higher subjectivity corresponds to a wider spread of polarity (from –1 to 1), showing that subjective language tends to involve stronger emotional swings.\n",
    "\n",
    "dtset[\"datetime\"] = pd.to_datetime(dtsetread[\"datetime\"])  # second graph: line graph\n",
    "dtset[\"hour\"] = dtset[\"datetime\"].dt.hour\n",
    "hour_sent = dtset.groupby(\"hour\")[\"polarity\"].mean().reset_index()\n",
    "\n",
    "fig = px.line(\n",
    "    hour_sent,\n",
    "    x=\"hour\",\n",
    "    y=\"polarity\",\n",
    "    title=\"Average Polarity by Hour of Day (All Subreddits Combined)\",\n",
    "    markers=True,\n",
    ")\n",
    "\n",
    "fig.update_layout(\n",
    "    xaxis_title=\"Hour of Day\",\n",
    "    yaxis_title=\"Average Polarity\",\n",
    "    xaxis=dict(dtick=1),\n",
    "    template=\"plotly_white\",\n",
    ")\n",
    "fig.show()\n",
    "\n",
    "# My Insight：\n",
    "# The average polarity remains close to zero, indicating that most posts maintain a neutral tone. However, noticeable positive spikes appear around 2–5 AM, 9 AM, and 8 PM, showing moments of stronger optimism.\n",
    "# Polarity peaks near 9 AM (likely coinciding with U.S. market opening hours) and 8 PM (possibly Asian evening discussion time). These surges may correspond to pre-market expectations or post-market reflections.\n",
    "# Between 3 PM and 6 PM, average polarity dips below zero, suggesting that posts become slightly more negative—potentially due to intraday market downturns or investor fatigue.\n",
    "# The pattern may reflect investors’ behavioral rhythm during trading hours, yet the dataset may mix users from multiple time zones, so the “hourly” pattern should be interpreted with caution."
   ]
  },
  {
   "cell_type": "markdown",
   "metadata": {},
   "source": [
    "# Phase 2"
   ]
  },
  {
   "cell_type": "code",
   "execution_count": null,
   "metadata": {},
   "outputs": [],
   "source": [
    "### Begin Assignment Here"
   ]
  }
 ],
 "metadata": {
  "kernelspec": {
   "display_name": "Python (dm2025lab)",
   "language": "python",
   "name": "dm2025lab"
  },
  "language_info": {
   "codemirror_mode": {
    "name": "ipython",
    "version": 3
   },
   "file_extension": ".py",
   "mimetype": "text/x-python",
   "name": "python",
   "nbconvert_exporter": "python",
   "pygments_lexer": "ipython3",
   "version": "3.11.0"
  }
 },
 "nbformat": 4,
 "nbformat_minor": 4
}
